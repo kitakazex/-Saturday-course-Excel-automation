{
  "nbformat": 4,
  "nbformat_minor": 0,
  "metadata": {
    "colab": {
      "provenance": [],
      "toc_visible": true,
      "collapsed_sections": [
        "ojflkWoCXf9z"
      ],
      "authorship_tag": "ABX9TyOr5ACcaiZVZuNzg9wz6shv",
      "include_colab_link": true
    },
    "kernelspec": {
      "name": "python3",
      "display_name": "Python 3"
    },
    "language_info": {
      "name": "python"
    }
  },
  "cells": [
    {
      "cell_type": "markdown",
      "metadata": {
        "id": "view-in-github",
        "colab_type": "text"
      },
      "source": [
        "<a href=\"https://colab.research.google.com/github/kitakazex/-Saturday-course-Excel-automation/blob/master/%E5%9C%9F%E6%9B%9C%E6%97%A5%E8%AC%9B%E5%BA%A7%E3%80%80SQL.ipynb\" target=\"_parent\"><img src=\"https://colab.research.google.com/assets/colab-badge.svg\" alt=\"Open In Colab\"/></a>"
      ]
    },
    {
      "cell_type": "markdown",
      "source": [
        "#◇段取り用関数\n",
        "\n",
        "---\n",
        "\n",
        "はじめにこちらを実行してください"
      ],
      "metadata": {
        "id": "MVUsxBoBuJRM"
      }
    },
    {
      "cell_type": "markdown",
      "source": [
        "##◇段取り用関数(CREATE用)"
      ],
      "metadata": {
        "id": "liiMMuzPK70D"
      }
    },
    {
      "cell_type": "code",
      "source": [
        "import re,sqlite3"
      ],
      "metadata": {
        "id": "QnpyqAsyCzJj"
      },
      "execution_count": 1,
      "outputs": []
    },
    {
      "cell_type": "code",
      "source": [
        "def c_sql():\n",
        "    con = sqlite3.connect('test.db')\n",
        "    cur = con.cursor()\n",
        "    s=re.sub('[\"\\n\",\"\\s\"]','',sql)\n",
        "    s2=re.sub('\\(.*?\\).*','',s)\n",
        "    tbl=re.sub('(create)+.*(table)','',s2, flags=re.IGNORECASE).strip()\n",
        "    drop_sql=f\"DROP TABLE IF EXISTS {tbl}\"\n",
        "    cur.execute(drop_sql)\n",
        "    cur.execute(sql)\n",
        "    \n",
        "    print(f'【{tbl}】')\n",
        "    attribute=cur.execute(f'PRAGMA table_info({tbl})')\n",
        "    for a in attribute:\n",
        "        print(a[1],end=\"｜\")\n",
        "    con.close()"
      ],
      "metadata": {
        "id": "eQjVbbqZLCKj"
      },
      "execution_count": 2,
      "outputs": []
    },
    {
      "cell_type": "markdown",
      "source": [
        "##◇段取り用関数(DROP用)"
      ],
      "metadata": {
        "id": "oMY4FwzaPZXr"
      }
    },
    {
      "cell_type": "code",
      "source": [
        "def d_sql():\n",
        "    con = sqlite3.connect('test.db')\n",
        "    cur = con.cursor()\n",
        "    try:\n",
        "        cur.execute(sql)\n",
        "        print(f'\"{sql}\"を実行しました。')\n",
        "    except :\n",
        "        print(\"存在しないテーブルは削除できません。\\nテーブル削除に失敗しました。\")\n",
        "    con.close()\n"
      ],
      "metadata": {
        "id": "Lzdm3JVBPGvL"
      },
      "execution_count": 3,
      "outputs": []
    },
    {
      "cell_type": "markdown",
      "source": [
        "##◇段取り用関数(ALTER用)"
      ],
      "metadata": {
        "id": "JFq5gD17vJsV"
      }
    },
    {
      "cell_type": "code",
      "source": [
        "def a_sql():\n",
        "    con = sqlite3.connect('test.db')\n",
        "    cur = con.cursor()\n",
        "\n",
        "    s=re.sub('[\"\\n\",\"\\s\"]','',sql)\n",
        "    judge=re.search('(rename)',s,flags=re.IGNORECASE)\n",
        "    if judge:\n",
        "        index=judge.span()\n",
        "        tbl=re.sub('(rename)+.*to','',s[index[0]:], flags=re.IGNORECASE).strip()\n",
        "    else:\n",
        "        s2=re.sub('(add)+.*','',s, flags=re.IGNORECASE)\n",
        "        tbl=re.sub('(alter)+.*table','',s2, flags=re.IGNORECASE).strip()\n",
        "    try:\n",
        "        cur.execute(sql)        \n",
        "    except:\n",
        "        pass\n",
        "\n",
        "    print(f'【{tbl}】')\n",
        "    attribute=cur.execute(f'PRAGMA table_info({tbl})')\n",
        "    for a in attribute:\n",
        "        print(a[1],end=\"｜\")\n",
        "    con.close()"
      ],
      "metadata": {
        "id": "9RTv9kb-vE3r"
      },
      "execution_count": 4,
      "outputs": []
    },
    {
      "cell_type": "markdown",
      "source": [
        "##◇段取り用関数(SELECT用)"
      ],
      "metadata": {
        "id": "bMoOD-iqaetD"
      }
    },
    {
      "cell_type": "code",
      "source": [
        "def ck_sql():\n",
        "    con = sqlite3.connect(\"test.db\")\n",
        "    cur = con.cursor()\n",
        "    cur.execute(sql)\n",
        "    \n",
        "    attribute=[d[0]+'|' for d in cur.description]\n",
        "    print(*attribute)\n",
        "    for row in cur.execute(sql):\n",
        "        print(*row)\n",
        "       \n",
        "    con.close()"
      ],
      "metadata": {
        "id": "6iKclRctaNDq"
      },
      "execution_count": 5,
      "outputs": []
    },
    {
      "cell_type": "markdown",
      "source": [
        "##◇段取り用関数（INSERT用）"
      ],
      "metadata": {
        "id": "lc8RCDPUEfTO"
      }
    },
    {
      "cell_type": "code",
      "source": [
        "#発注テーブルにデータを挿入する\n",
        "def i_sql():\n",
        "    con = sqlite3.connect('test.db')\n",
        "    cur = con.cursor()\n",
        "    \n",
        "    s=re.sub('[\"\\n\",\"\\s\"]','',sql)\n",
        "    s2=re.sub('\\(.*?\\).*','',s)\n",
        "\n",
        "    tbl=re.sub('(insert)+.*(into)','',s2, flags=re.IGNORECASE).strip()\n",
        "\n",
        "    cur.executemany(sql,data)\n",
        "    con.commit()\n",
        "    \n",
        "    attribute=cur.execute(f'PRAGMA table_info({tbl})')\n",
        "    print(f'【{tbl}】')\n",
        "\n",
        "    for a in attribute:\n",
        "        print(a[1],end=\"｜\")\n",
        "    print()\n",
        "    for row in cur.execute(f\"SELECT * FROM {tbl}\"):\n",
        "        print(*row)\n",
        "    con.close()\n",
        "    "
      ],
      "metadata": {
        "id": "26VbAReyEe55"
      },
      "execution_count": 6,
      "outputs": []
    },
    {
      "cell_type": "markdown",
      "source": [
        "#サンプルデータベース作成\n",
        "\n",
        "---\n",
        "学習用のサンプルデータベースを作成します。\n"
      ],
      "metadata": {
        "id": "wRl8y-Uqp67t"
      }
    },
    {
      "cell_type": "markdown",
      "source": [
        "##商品テーブルを作成する"
      ],
      "metadata": {
        "id": "rZ1VEIWbWrDT"
      }
    },
    {
      "cell_type": "code",
      "source": [
        "sql=f\"\"\"CREATE  TABLE  商品テーブル( \n",
        "               商品id INTEGER PRIMARY KEY ,\n",
        "               カテゴリ TEXT ,\n",
        "               商品名 TEXT ,\n",
        "               価格 INTEGER)\"\"\"\n",
        "c_sql()"
      ],
      "metadata": {
        "id": "efjsgMr-sS5V",
        "colab": {
          "base_uri": "https://localhost:8080/"
        },
        "outputId": "d71a3dd5-ab95-4e4a-e6bb-bef9b37373d8"
      },
      "execution_count": 7,
      "outputs": [
        {
          "output_type": "stream",
          "name": "stdout",
          "text": [
            "【商品テーブル】\n",
            "商品id｜カテゴリ｜商品名｜価格｜"
          ]
        }
      ]
    },
    {
      "cell_type": "code",
      "source": [
        "#商品テーブルにデータを挿入する\n",
        "sql=\"INSERT INTO 商品テーブル(カテゴリ,商品名,価格) VALUES( ?, ?, ?)\"\n",
        "data=[\n",
        "    ('書籍','SQLの本',2500),\n",
        "    ('電化製品','アイロン',1200),\n",
        "    ('衣類','セーター',2000),\n",
        "    ('文房具','コンパス',300),\n",
        "    ('食料品','食パン',150),\n",
        "    ('書籍','Pythonの本',2500),\n",
        "    ('電化製品','洗濯機',20000),\n",
        "    ('衣類','シャツ',1000),\n",
        "    ('食料品','お米',1250),\n",
        "    ('電化製品','テレビ',23000),\n",
        "    ('衣類','コート',30000),\n",
        "    ('文房具','定規',200),\n",
        "    ('食料品','北海道',2400),\n",
        "    ('食料品','秋田米',4000),\n",
        "    ('食料品','岩手米',3800),\n",
        "    ('食料品','新潟米',2600),\n",
        "    ('食料品','卵',180),\n",
        "    ('書籍','C#の本',2800),\n",
        "    ('電化製品','ドライヤー',3200),\n",
        "    ('文房具','ノート',100),\n",
        "    ('食料品','豆腐',100),\n",
        "    ('書籍','JAVAの本',2600),\n",
        "    ('電化製品','電気ポット',2200),\n",
        "    ('文房具','ホチキス',300),\n",
        "]"
      ],
      "metadata": {
        "id": "ANeKitw8qtRr"
      },
      "execution_count": 8,
      "outputs": []
    },
    {
      "cell_type": "code",
      "source": [
        "i_sql()"
      ],
      "metadata": {
        "colab": {
          "base_uri": "https://localhost:8080/"
        },
        "id": "EVpxM4GuFynW",
        "outputId": "1615a030-be99-450a-808e-9d0de964ae66"
      },
      "execution_count": 9,
      "outputs": [
        {
          "output_type": "stream",
          "name": "stdout",
          "text": [
            "【商品テーブル】\n",
            "商品id｜カテゴリ｜商品名｜価格｜\n",
            "1 書籍 SQLの本 2500\n",
            "2 電化製品 アイロン 1200\n",
            "3 衣類 セーター 2000\n",
            "4 文房具 コンパス 300\n",
            "5 食料品 食パン 150\n",
            "6 書籍 Pythonの本 2500\n",
            "7 電化製品 洗濯機 20000\n",
            "8 衣類 シャツ 1000\n",
            "9 食料品 お米 1250\n",
            "10 電化製品 テレビ 23000\n",
            "11 衣類 コート 30000\n",
            "12 文房具 定規 200\n",
            "13 食料品 北海道 2400\n",
            "14 食料品 秋田米 4000\n",
            "15 食料品 岩手米 3800\n",
            "16 食料品 新潟米 2600\n",
            "17 食料品 卵 180\n",
            "18 書籍 C#の本 2800\n",
            "19 電化製品 ドライヤー 3200\n",
            "20 文房具 ノート 100\n",
            "21 食料品 豆腐 100\n",
            "22 書籍 JAVAの本 2600\n",
            "23 電化製品 電気ポット 2200\n",
            "24 文房具 ホチキス 300\n"
          ]
        }
      ]
    },
    {
      "cell_type": "markdown",
      "source": [
        "##発注テーブルを作成する"
      ],
      "metadata": {
        "id": "ojflkWoCXf9z"
      }
    },
    {
      "cell_type": "code",
      "source": [
        "#発注テーブル作成\n",
        "\n",
        "sql=\"\"\"\n",
        "        CREATE TABLE 発注テーブル( \n",
        "                              発注id INTEGER PRIMARY KEY ,\n",
        "                              顧客名 TEXT ,\n",
        "                              配送住所 TEXT ,\n",
        "                              配送日 TEXT ,\n",
        "                              商品id INTEGER  ,\n",
        "                              FOREIGN KEY(商品id )\n",
        "                                REFERENCES 商品テーブル(商品id) )\"\"\"\n",
        "c_sql()"
      ],
      "metadata": {
        "id": "Oz0W1mmgp6de",
        "colab": {
          "base_uri": "https://localhost:8080/"
        },
        "outputId": "61fe3591-a468-43b7-d1ca-91fcdfaf6ba6"
      },
      "execution_count": 79,
      "outputs": [
        {
          "output_type": "stream",
          "name": "stdout",
          "text": [
            "【発注テーブル】\n",
            "発注id｜顧客名｜配送住所｜配送日｜商品id｜"
          ]
        }
      ]
    },
    {
      "cell_type": "code",
      "source": [
        "#発注テーブルにデータを挿入する①\n",
        "sql=\"INSERT INTO 発注テーブル(顧客名,配送住所,配送日,商品id) VALUES( ?, ?, ?, ?)\"\n",
        "data=[\n",
        "    ('A氏','Q市','2022-11-11',5),\n",
        "    ('D氏','S市','2022-11-11',2),\n",
        "    ('R氏','X市','2022-11-11',1),\n",
        "    ('O氏','L市','2022-11-12',3),\n",
        "    ('K氏','C市','2022-11-12',4),\n",
        "    ('A氏','Q市','2022-11-12',8),\n",
        "    ('D氏','S市','2022-11-14',7),\n",
        "    ('R氏','X市','2022-11-14',6),\n",
        "    ('O氏','L市','2022-11-14',9),\n",
        "    ('K氏','C市','2022-11-14',12),\n",
        "    ('A氏','Q市','2022-11-13',14),\n",
        "    ('D氏','S市','2022-11-13',10),\n",
        "    ('R氏','X市','2022-11-16',11),\n",
        "    ('O氏','L市','2022-11-16',13),\n",
        "    ('K氏','C市','2022-11-16',15),\n",
        "    ('R氏','X市','2022-11-17',16),\n",
        "]"
      ],
      "metadata": {
        "id": "Bn8IQ0yBYSkD"
      },
      "execution_count": 82,
      "outputs": []
    },
    {
      "cell_type": "code",
      "source": [
        "i_sql()"
      ],
      "metadata": {
        "colab": {
          "base_uri": "https://localhost:8080/"
        },
        "id": "uMauy7AmXXOm",
        "outputId": "746c44be-3538-4b0f-e033-9717c8e877b1"
      },
      "execution_count": 83,
      "outputs": [
        {
          "output_type": "stream",
          "name": "stdout",
          "text": [
            "【発注テーブル】\n",
            "発注id｜顧客名｜配送住所｜配送日｜商品id｜\n",
            "1 A氏 Q市 2022-11-11 5\n",
            "2 D氏 S市 2022-11-11 2\n",
            "3 R氏 X市 2022-11-11 1\n",
            "4 O氏 L市 2022-11-12 3\n",
            "5 K氏 C市 2022-11-12 4\n",
            "6 A氏 Q市 2022-11-12 8\n",
            "7 D氏 S市 2022-11-14 7\n",
            "8 R氏 X市 2022-11-14 6\n",
            "9 O氏 L市 2022-11-14 9\n",
            "10 K氏 C市 2022-11-14 12\n",
            "11 A氏 Q市 2022-11-13 14\n",
            "12 D氏 S市 2022-11-13 10\n",
            "13 R氏 X市 2022-11-16 11\n",
            "14 O氏 L市 2022-11-16 13\n",
            "15 K氏 C市 2022-11-16 15\n",
            "16 R氏 X市 2022-11-17 16\n"
          ]
        }
      ]
    },
    {
      "cell_type": "markdown",
      "source": [
        "#CREATE"
      ],
      "metadata": {
        "id": "UJxBzrbdD3Kc"
      }
    },
    {
      "cell_type": "code",
      "source": [
        "sql = \"\"\"CREATE TABLE テストテーブル(\n",
        "            主キーid INTEGER PRIMARYKEY,\n",
        "            項目1 TEXT UNIQUE,\n",
        "            項目2 TEXT NOT NULL\n",
        "        )\"\"\"\n",
        "\n",
        "c_sql()"
      ],
      "metadata": {
        "colab": {
          "base_uri": "https://localhost:8080/"
        },
        "id": "6O4iPIpZFTl7",
        "outputId": "d4dbd931-1fbc-4611-9ac3-f86707e4eeb8"
      },
      "execution_count": 13,
      "outputs": [
        {
          "output_type": "stream",
          "name": "stdout",
          "text": [
            "【テストテーブル】\n",
            "主キーid｜項目1｜項目2｜"
          ]
        }
      ]
    },
    {
      "cell_type": "markdown",
      "source": [
        "#DROP"
      ],
      "metadata": {
        "id": "vBRcRsjbIyxD"
      }
    },
    {
      "cell_type": "code",
      "source": [
        "#テーブル削除\n",
        "sql= \"DROP TABLE テストテーブル\"\n",
        "d_sql()\n"
      ],
      "metadata": {
        "id": "VNV5qPMAI1HT",
        "colab": {
          "base_uri": "https://localhost:8080/"
        },
        "outputId": "96f6b666-ea70-4851-b271-ae272b0575a6"
      },
      "execution_count": 14,
      "outputs": [
        {
          "output_type": "stream",
          "name": "stdout",
          "text": [
            "\"DROP TABLE テストテーブル\"を実行しました。\n"
          ]
        }
      ]
    },
    {
      "cell_type": "code",
      "source": [
        "#存在する場合のみテーブルを削除\n",
        "sql= \"DROP TABLE IF EXISTS テストテーブル\"\n",
        "d_sql()"
      ],
      "metadata": {
        "id": "1N4JTX6PLrQy",
        "colab": {
          "base_uri": "https://localhost:8080/"
        },
        "outputId": "45956fac-9e8e-40d6-f89d-b8c81c2fdb01"
      },
      "execution_count": 15,
      "outputs": [
        {
          "output_type": "stream",
          "name": "stdout",
          "text": [
            "\"DROP TABLE IF EXISTS テストテーブル\"を実行しました。\n"
          ]
        }
      ]
    },
    {
      "cell_type": "markdown",
      "source": [
        "再びテストテーブルを作成します。"
      ],
      "metadata": {
        "id": "KRappWPlUQY5"
      }
    },
    {
      "cell_type": "code",
      "source": [
        "sql = \"\"\"CREATE TABLE テストテーブル(\n",
        "            主キーid INTEGER PRIMARYKEY,\n",
        "            項目1 TEXT UNIQUE,\n",
        "            項目2 TEXT NOT NULL\n",
        "        )\"\"\"\n",
        "\n",
        "c_sql()"
      ],
      "metadata": {
        "colab": {
          "base_uri": "https://localhost:8080/"
        },
        "id": "dYxXdkEcTAX7",
        "outputId": "67934c60-97b0-46ab-ace5-9866a2dd35ca"
      },
      "execution_count": 16,
      "outputs": [
        {
          "output_type": "stream",
          "name": "stdout",
          "text": [
            "【テストテーブル】\n",
            "主キーid｜項目1｜項目2｜"
          ]
        }
      ]
    },
    {
      "cell_type": "markdown",
      "source": [
        "#ALTER"
      ],
      "metadata": {
        "id": "MBlnLZU6MJjb"
      }
    },
    {
      "cell_type": "code",
      "source": [
        "#属性を追加する\n",
        "sql= \"ALTER TABLE テストテーブル ADD COLUMN 項目3 REAL\"\n",
        "a_sql()"
      ],
      "metadata": {
        "colab": {
          "base_uri": "https://localhost:8080/"
        },
        "id": "5uJy4m2NMddL",
        "outputId": "5631c0fc-b78d-452c-9500-e10d9d3abaac"
      },
      "execution_count": 17,
      "outputs": [
        {
          "output_type": "stream",
          "name": "stdout",
          "text": [
            "【テストテーブル】\n",
            "主キーid｜項目1｜項目2｜項目3｜"
          ]
        }
      ]
    },
    {
      "cell_type": "code",
      "source": [
        "#テーブルの名前を変更する\n",
        "sql=\"ALTER TABLE テストテーブル RENAME TO テストテーブル2\"\n",
        "a_sql()"
      ],
      "metadata": {
        "colab": {
          "base_uri": "https://localhost:8080/"
        },
        "id": "a3aL41lvTbJD",
        "outputId": "60173f59-ec83-434a-c885-910ed321b372"
      },
      "execution_count": 18,
      "outputs": [
        {
          "output_type": "stream",
          "name": "stdout",
          "text": [
            "【テストテーブル2】\n",
            "主キーid｜項目1｜項目2｜項目3｜"
          ]
        }
      ]
    },
    {
      "cell_type": "markdown",
      "source": [
        "#SELECT"
      ],
      "metadata": {
        "id": "Llb4eLydVfkT"
      }
    },
    {
      "cell_type": "code",
      "source": [
        "sql = \"SELECT * FROM 商品テーブル\"\n",
        "ck_sql()"
      ],
      "metadata": {
        "id": "PjmwR4D3HP4D",
        "colab": {
          "base_uri": "https://localhost:8080/"
        },
        "outputId": "59d75dc8-71b3-4653-d217-6738e73652a0"
      },
      "execution_count": 21,
      "outputs": [
        {
          "output_type": "stream",
          "name": "stdout",
          "text": [
            "商品id| カテゴリ| 商品名| 価格|\n",
            "1 書籍 SQLの本 2500\n",
            "2 電化製品 アイロン 1200\n",
            "3 衣類 セーター 2000\n",
            "4 文房具 コンパス 300\n",
            "5 食料品 食パン 150\n",
            "6 書籍 Pythonの本 2500\n",
            "7 電化製品 洗濯機 20000\n",
            "8 衣類 シャツ 1000\n",
            "9 食料品 お米 1250\n",
            "10 電化製品 テレビ 23000\n",
            "11 衣類 コート 30000\n",
            "12 文房具 定規 200\n",
            "13 食料品 北海道 2400\n",
            "14 食料品 秋田米 4000\n",
            "15 食料品 岩手米 3800\n",
            "16 食料品 新潟米 2600\n",
            "17 食料品 卵 180\n",
            "18 書籍 C#の本 2800\n",
            "19 電化製品 ドライヤー 3200\n",
            "20 文房具 ノート 100\n",
            "21 食料品 豆腐 100\n",
            "22 書籍 JAVAの本 2600\n",
            "23 電化製品 電気ポット 2200\n",
            "24 文房具 ホチキス 300\n"
          ]
        }
      ]
    },
    {
      "cell_type": "code",
      "source": [
        "sql=\"SELECT COUNT(*) AS 個数 FROM 商品テーブル\"\n",
        "ck_sql()"
      ],
      "metadata": {
        "id": "pvVcuF1whPCz",
        "colab": {
          "base_uri": "https://localhost:8080/"
        },
        "outputId": "f2e6c88a-c1ad-4ca1-c108-043644f8c387"
      },
      "execution_count": 22,
      "outputs": [
        {
          "output_type": "stream",
          "name": "stdout",
          "text": [
            "個数|\n",
            "24\n"
          ]
        }
      ]
    },
    {
      "cell_type": "code",
      "source": [
        "sql=\"SELECT 商品名,価格 FROM 商品テーブル\"\n",
        "ck_sql()"
      ],
      "metadata": {
        "id": "sbI2K3Mik70T",
        "colab": {
          "base_uri": "https://localhost:8080/"
        },
        "outputId": "ccbdd1a7-d459-4d2e-def9-480dfbdf121e"
      },
      "execution_count": 23,
      "outputs": [
        {
          "output_type": "stream",
          "name": "stdout",
          "text": [
            "商品名| 価格|\n",
            "SQLの本 2500\n",
            "アイロン 1200\n",
            "セーター 2000\n",
            "コンパス 300\n",
            "食パン 150\n",
            "Pythonの本 2500\n",
            "洗濯機 20000\n",
            "シャツ 1000\n",
            "お米 1250\n",
            "テレビ 23000\n",
            "コート 30000\n",
            "定規 200\n",
            "北海道 2400\n",
            "秋田米 4000\n",
            "岩手米 3800\n",
            "新潟米 2600\n",
            "卵 180\n",
            "C#の本 2800\n",
            "ドライヤー 3200\n",
            "ノート 100\n",
            "豆腐 100\n",
            "JAVAの本 2600\n",
            "電気ポット 2200\n",
            "ホチキス 300\n"
          ]
        }
      ]
    },
    {
      "cell_type": "code",
      "source": [
        "sql=\"\"\"SELECT * FROM 商品テーブル\n",
        "        WHERE 価格>1000 OR 価格=1000\"\"\"\n",
        "ck_sql()"
      ],
      "metadata": {
        "id": "5fT4Tx-fmkqE",
        "colab": {
          "base_uri": "https://localhost:8080/"
        },
        "outputId": "5a92a1ae-c006-4c9f-d322-2745d4d51ece"
      },
      "execution_count": 24,
      "outputs": [
        {
          "output_type": "stream",
          "name": "stdout",
          "text": [
            "商品id| カテゴリ| 商品名| 価格|\n",
            "1 書籍 SQLの本 2500\n",
            "2 電化製品 アイロン 1200\n",
            "3 衣類 セーター 2000\n",
            "6 書籍 Pythonの本 2500\n",
            "7 電化製品 洗濯機 20000\n",
            "8 衣類 シャツ 1000\n",
            "9 食料品 お米 1250\n",
            "10 電化製品 テレビ 23000\n",
            "11 衣類 コート 30000\n",
            "13 食料品 北海道 2400\n",
            "14 食料品 秋田米 4000\n",
            "15 食料品 岩手米 3800\n",
            "16 食料品 新潟米 2600\n",
            "18 書籍 C#の本 2800\n",
            "19 電化製品 ドライヤー 3200\n",
            "22 書籍 JAVAの本 2600\n",
            "23 電化製品 電気ポット 2200\n"
          ]
        }
      ]
    },
    {
      "cell_type": "code",
      "source": [
        "#計算式\n",
        "sql=\"\"\"SELECT 商品名,価格 ,CAST(価格*1.1 AS INT) AS 税込み価格 \n",
        "        FROM 商品テーブル\"\"\"\n",
        "ck_sql()"
      ],
      "metadata": {
        "id": "0otT-DGJnlZD",
        "colab": {
          "base_uri": "https://localhost:8080/"
        },
        "outputId": "67a2c408-e378-4f50-f592-c300d5523d95"
      },
      "execution_count": 25,
      "outputs": [
        {
          "output_type": "stream",
          "name": "stdout",
          "text": [
            "商品名| 価格| 税込み価格|\n",
            "SQLの本 2500 2750\n",
            "アイロン 1200 1320\n",
            "セーター 2000 2200\n",
            "コンパス 300 330\n",
            "食パン 150 165\n",
            "Pythonの本 2500 2750\n",
            "洗濯機 20000 22000\n",
            "シャツ 1000 1100\n",
            "お米 1250 1375\n",
            "テレビ 23000 25300\n",
            "コート 30000 33000\n",
            "定規 200 220\n",
            "北海道 2400 2640\n",
            "秋田米 4000 4400\n",
            "岩手米 3800 4180\n",
            "新潟米 2600 2860\n",
            "卵 180 198\n",
            "C#の本 2800 3080\n",
            "ドライヤー 3200 3520\n",
            "ノート 100 110\n",
            "豆腐 100 110\n",
            "JAVAの本 2600 2860\n",
            "電気ポット 2200 2420\n",
            "ホチキス 300 330\n"
          ]
        }
      ]
    },
    {
      "cell_type": "code",
      "source": [
        "#属性同士を連結する\n",
        "sql=r\"\"\"SELECT 商品名 || ' の価格は、\\'|| 価格 || ' です。'AS 商品の価格\n",
        "    FROM 商品テーブル \"\"\"\n",
        "ck_sql()"
      ],
      "metadata": {
        "id": "B-7n-KMr5Xei",
        "colab": {
          "base_uri": "https://localhost:8080/"
        },
        "outputId": "c8c833f4-ee8d-4202-c271-af8e0bcf76a3"
      },
      "execution_count": 26,
      "outputs": [
        {
          "output_type": "stream",
          "name": "stdout",
          "text": [
            "商品の価格|\n",
            "SQLの本 の価格は、\\2500 です。\n",
            "アイロン の価格は、\\1200 です。\n",
            "セーター の価格は、\\2000 です。\n",
            "コンパス の価格は、\\300 です。\n",
            "食パン の価格は、\\150 です。\n",
            "Pythonの本 の価格は、\\2500 です。\n",
            "洗濯機 の価格は、\\20000 です。\n",
            "シャツ の価格は、\\1000 です。\n",
            "お米 の価格は、\\1250 です。\n",
            "テレビ の価格は、\\23000 です。\n",
            "コート の価格は、\\30000 です。\n",
            "定規 の価格は、\\200 です。\n",
            "北海道 の価格は、\\2400 です。\n",
            "秋田米 の価格は、\\4000 です。\n",
            "岩手米 の価格は、\\3800 です。\n",
            "新潟米 の価格は、\\2600 です。\n",
            "卵 の価格は、\\180 です。\n",
            "C#の本 の価格は、\\2800 です。\n",
            "ドライヤー の価格は、\\3200 です。\n",
            "ノート の価格は、\\100 です。\n",
            "豆腐 の価格は、\\100 です。\n",
            "JAVAの本 の価格は、\\2600 です。\n",
            "電気ポット の価格は、\\2200 です。\n",
            "ホチキス の価格は、\\300 です。\n"
          ]
        }
      ]
    },
    {
      "cell_type": "code",
      "source": [
        "#別名を指定する\n",
        "sql=\"SELECT HT.* FROM 発注テーブル HT \"\n",
        "ck_sql()"
      ],
      "metadata": {
        "id": "joFLhIDb-kXz",
        "colab": {
          "base_uri": "https://localhost:8080/"
        },
        "outputId": "8f81e248-3027-4183-88be-fe805c46e711"
      },
      "execution_count": 27,
      "outputs": [
        {
          "output_type": "stream",
          "name": "stdout",
          "text": [
            "発注id| 顧客名| 住所| 配送日| 商品id|\n",
            "1 A氏 Q市 2022-11-11 5\n",
            "2 D氏 S市 2022-11-11 2\n",
            "3 R氏 X市 2022-11-11 1\n",
            "4 O氏 L市 2022-11-12 3\n",
            "5 K氏 C市 2022-11-12 4\n",
            "6 A氏 Q市 2022-11-12 8\n",
            "7 D氏 S市 2022-11-14 7\n",
            "8 R氏 X市 2022-11-14 6\n",
            "9 O氏 L市 2022-11-14 9\n",
            "10 K氏 C市 2022-11-14 12\n",
            "11 A氏 Q市 2022-11-13 14\n",
            "12 D氏 S市 2022-11-13 10\n",
            "13 R氏 X市 2022-11-16 11\n",
            "14 O氏 L市 2022-11-16 13\n",
            "15 K氏 C市 2022-11-16 15\n",
            "16 R氏 X市 2022-11-17 16\n"
          ]
        }
      ]
    },
    {
      "cell_type": "markdown",
      "source": [
        "##条件式"
      ],
      "metadata": {
        "id": "zS5zKNJgWrf1"
      }
    },
    {
      "cell_type": "code",
      "source": [
        "#条件式を使う\n",
        "#範囲を検索する\n",
        "sql=\"\"\"SELECT * FROM 商品テーブル\n",
        "        WHERE 価格 BETWEEN 1000 AND 2000\"\"\"\n",
        "ck_sql()"
      ],
      "metadata": {
        "id": "7OSK7O4D9y80",
        "colab": {
          "base_uri": "https://localhost:8080/"
        },
        "outputId": "8204e73d-5752-46d7-b2a7-93569d548f11"
      },
      "execution_count": 28,
      "outputs": [
        {
          "output_type": "stream",
          "name": "stdout",
          "text": [
            "商品id| カテゴリ| 商品名| 価格|\n",
            "2 電化製品 アイロン 1200\n",
            "3 衣類 セーター 2000\n",
            "8 衣類 シャツ 1000\n",
            "9 食料品 お米 1250\n"
          ]
        }
      ]
    },
    {
      "cell_type": "code",
      "source": [
        "#条件式を使う\n",
        "#等しいものを検索する\n",
        "sql=\"\"\"SELECT * FROM 商品テーブル\n",
        "        WHERE カテゴリ IN ('書籍','文房具')\"\"\"\n",
        "ck_sql()"
      ],
      "metadata": {
        "id": "_7s5k5XwYN-D",
        "colab": {
          "base_uri": "https://localhost:8080/"
        },
        "outputId": "3ae1627f-d43b-4e13-8011-3d5cd7003475"
      },
      "execution_count": 29,
      "outputs": [
        {
          "output_type": "stream",
          "name": "stdout",
          "text": [
            "商品id| カテゴリ| 商品名| 価格|\n",
            "1 書籍 SQLの本 2500\n",
            "4 文房具 コンパス 300\n",
            "6 書籍 Pythonの本 2500\n",
            "12 文房具 定規 200\n",
            "18 書籍 C#の本 2800\n",
            "20 文房具 ノート 100\n",
            "22 書籍 JAVAの本 2600\n",
            "24 文房具 ホチキス 300\n"
          ]
        }
      ]
    },
    {
      "cell_type": "code",
      "source": [
        "#条件式を使う\n",
        "#部分一致を検索する\n",
        "sql=\"\"\"SELECT * FROM 商品テーブル\n",
        "        WHERE 商品名 LIKE '%米' \"\"\"\n",
        "ck_sql()"
      ],
      "metadata": {
        "id": "zDpQeKrMYt9i",
        "colab": {
          "base_uri": "https://localhost:8080/"
        },
        "outputId": "ccc8efcf-6c67-4558-eb73-53d13af1a145"
      },
      "execution_count": 30,
      "outputs": [
        {
          "output_type": "stream",
          "name": "stdout",
          "text": [
            "商品id| カテゴリ| 商品名| 価格|\n",
            "9 食料品 お米 1250\n",
            "14 食料品 秋田米 4000\n",
            "15 食料品 岩手米 3800\n",
            "16 食料品 新潟米 2600\n"
          ]
        }
      ]
    },
    {
      "cell_type": "code",
      "source": [
        "#条件式を使う\n",
        "#異なるものを検索する\n",
        "sql=\"\"\"SELECT * FROM 商品テーブル\n",
        "        WHERE カテゴリ NOT IN('電化製品','書籍','食料品')\"\"\"\n",
        "ck_sql()"
      ],
      "metadata": {
        "id": "YYFYWNYqZ57a",
        "colab": {
          "base_uri": "https://localhost:8080/"
        },
        "outputId": "35b09070-fce3-4834-b120-2e75f1350401"
      },
      "execution_count": 31,
      "outputs": [
        {
          "output_type": "stream",
          "name": "stdout",
          "text": [
            "商品id| カテゴリ| 商品名| 価格|\n",
            "3 衣類 セーター 2000\n",
            "4 文房具 コンパス 300\n",
            "8 衣類 シャツ 1000\n",
            "11 衣類 コート 30000\n",
            "12 文房具 定規 200\n",
            "20 文房具 ノート 100\n",
            "24 文房具 ホチキス 300\n"
          ]
        }
      ]
    },
    {
      "cell_type": "markdown",
      "source": [
        "##グループ化"
      ],
      "metadata": {
        "id": "rf75UlbXWv3U"
      }
    },
    {
      "cell_type": "markdown",
      "source": [
        "GROUP BY句ではしばしば集約関数が共につかわれます。"
      ],
      "metadata": {
        "id": "erRzGQDk1Eho"
      }
    },
    {
      "cell_type": "code",
      "source": [
        "#AVG（属性）：平均\n",
        "#MAX（属性）：最大値\n",
        "#MIN（属性）：最小値\n",
        "#SUM（属性）：合計\n",
        "#COUNT(*)：個数\n",
        "#COUNT(DISTINCT 属性)：重複しない個数"
      ],
      "metadata": {
        "id": "bSuBvg393FmR"
      },
      "execution_count": null,
      "outputs": []
    },
    {
      "cell_type": "code",
      "source": [
        "#グループ化する\n",
        "#条件式無し①\n",
        "sql=\"\"\"SELECT カテゴリ,SUM(価格) AS カテゴリ別の合計価格 FROM 商品テーブル\n",
        "        GROUP BY カテゴリ\"\"\"\n",
        "ck_sql()"
      ],
      "metadata": {
        "colab": {
          "base_uri": "https://localhost:8080/"
        },
        "id": "G3t_FW7Uds66",
        "outputId": "e62897b5-1aec-4275-b49b-1d06ad8b3ade"
      },
      "execution_count": 32,
      "outputs": [
        {
          "output_type": "stream",
          "name": "stdout",
          "text": [
            "カテゴリ| カテゴリ別の合計価格|\n",
            "文房具 900\n",
            "書籍 10400\n",
            "衣類 33000\n",
            "電化製品 49600\n",
            "食料品 14480\n"
          ]
        }
      ]
    },
    {
      "cell_type": "code",
      "source": [
        "#グループ化する\n",
        "#条件式無し②\n",
        "sql=\"\"\"SELECT カテゴリ,COUNT(*) || '点' AS カテゴリ別の品数 FROM 商品テーブル\n",
        "        GROUP BY カテゴリ\"\"\"\n",
        "ck_sql()"
      ],
      "metadata": {
        "colab": {
          "base_uri": "https://localhost:8080/"
        },
        "id": "bIKPa3yhhxxi",
        "outputId": "e0f0e66f-3db7-4b66-d138-ae25d39d4554"
      },
      "execution_count": 345,
      "outputs": [
        {
          "output_type": "stream",
          "name": "stdout",
          "text": [
            "【商品テーブル】\n",
            "商品id｜カテゴリ｜商品名｜価格｜\n",
            "文房具 4点\n",
            "書籍 4点\n",
            "衣類 3点\n",
            "電化製品 5点\n",
            "食料品 8点\n"
          ]
        }
      ]
    },
    {
      "cell_type": "code",
      "source": [
        "#グループ化する\n",
        "#条件式あり\n",
        "sql=\"\"\"SELECT カテゴリ,価格 AS カテゴリ別の平均価格 FROM 商品テーブル\n",
        "        GROUP BY カテゴリ\n",
        "        HAVING カテゴリ IN ('文房具','食料品') \"\"\"\n",
        "ck_sql()"
      ],
      "metadata": {
        "colab": {
          "base_uri": "https://localhost:8080/"
        },
        "id": "Razc_Qgg5G3h",
        "outputId": "d72d3bdd-a53a-4676-b2aa-972ea37f11a0"
      },
      "execution_count": 346,
      "outputs": [
        {
          "output_type": "stream",
          "name": "stdout",
          "text": [
            "【商品テーブル】\n",
            "商品id｜カテゴリ｜商品名｜価格｜\n",
            "文房具 300\n",
            "食料品 100\n"
          ]
        }
      ]
    },
    {
      "cell_type": "markdown",
      "source": [
        "##並べ替え"
      ],
      "metadata": {
        "id": "oq7JX6HxW0Qk"
      }
    },
    {
      "cell_type": "code",
      "source": [
        "#条件式なし:降順\n",
        "sql=\"\"\"SELECT * FROM 商品テーブル\n",
        "        ORDER BY カテゴリ DESC\"\"\"\n",
        "ck_sql()"
      ],
      "metadata": {
        "id": "jCvbeD6TWN0M",
        "colab": {
          "base_uri": "https://localhost:8080/"
        },
        "outputId": "93220d7f-084a-4463-8062-c58c8463fcf7"
      },
      "execution_count": 33,
      "outputs": [
        {
          "output_type": "stream",
          "name": "stdout",
          "text": [
            "商品id| カテゴリ| 商品名| 価格|\n",
            "5 食料品 食パン 150\n",
            "9 食料品 お米 1250\n",
            "13 食料品 北海道 2400\n",
            "14 食料品 秋田米 4000\n",
            "15 食料品 岩手米 3800\n",
            "16 食料品 新潟米 2600\n",
            "17 食料品 卵 180\n",
            "21 食料品 豆腐 100\n",
            "2 電化製品 アイロン 1200\n",
            "7 電化製品 洗濯機 20000\n",
            "10 電化製品 テレビ 23000\n",
            "19 電化製品 ドライヤー 3200\n",
            "23 電化製品 電気ポット 2200\n",
            "3 衣類 セーター 2000\n",
            "8 衣類 シャツ 1000\n",
            "11 衣類 コート 30000\n",
            "1 書籍 SQLの本 2500\n",
            "6 書籍 Pythonの本 2500\n",
            "18 書籍 C#の本 2800\n",
            "22 書籍 JAVAの本 2600\n",
            "4 文房具 コンパス 300\n",
            "12 文房具 定規 200\n",
            "20 文房具 ノート 100\n",
            "24 文房具 ホチキス 300\n"
          ]
        }
      ]
    },
    {
      "cell_type": "code",
      "source": [
        "#条件式なし:昇順\n",
        "sql=\"\"\"SELECT * FROM 商品テーブル\n",
        "        ORDER BY 価格 \"\"\" #ASC\n",
        "ck_sql()"
      ],
      "metadata": {
        "id": "mZ0yLZS9X14M",
        "colab": {
          "base_uri": "https://localhost:8080/"
        },
        "outputId": "37a71179-a417-4146-86a0-4f45fb9db70b"
      },
      "execution_count": 34,
      "outputs": [
        {
          "output_type": "stream",
          "name": "stdout",
          "text": [
            "商品id| カテゴリ| 商品名| 価格|\n",
            "20 文房具 ノート 100\n",
            "21 食料品 豆腐 100\n",
            "5 食料品 食パン 150\n",
            "17 食料品 卵 180\n",
            "12 文房具 定規 200\n",
            "4 文房具 コンパス 300\n",
            "24 文房具 ホチキス 300\n",
            "8 衣類 シャツ 1000\n",
            "2 電化製品 アイロン 1200\n",
            "9 食料品 お米 1250\n",
            "3 衣類 セーター 2000\n",
            "23 電化製品 電気ポット 2200\n",
            "13 食料品 北海道 2400\n",
            "1 書籍 SQLの本 2500\n",
            "6 書籍 Pythonの本 2500\n",
            "16 食料品 新潟米 2600\n",
            "22 書籍 JAVAの本 2600\n",
            "18 書籍 C#の本 2800\n",
            "19 電化製品 ドライヤー 3200\n",
            "15 食料品 岩手米 3800\n",
            "14 食料品 秋田米 4000\n",
            "7 電化製品 洗濯機 20000\n",
            "10 電化製品 テレビ 23000\n",
            "11 衣類 コート 30000\n"
          ]
        }
      ]
    },
    {
      "cell_type": "markdown",
      "source": [
        "##テーブルを結合する"
      ],
      "metadata": {
        "id": "8LNc9Z0MYXyM"
      }
    },
    {
      "cell_type": "markdown",
      "source": [
        "###WHERE句で結合する"
      ],
      "metadata": {
        "id": "78ncQeBLbwQL"
      }
    },
    {
      "cell_type": "code",
      "source": [
        "#基本\n",
        "sql=\"\"\"SELECT *\n",
        "         FROM 発注テーブル,商品テーブル\n",
        "         WHERE 発注テーブル.商品id=商品テーブル.商品id\"\"\"\n",
        "ck_sql()"
      ],
      "metadata": {
        "id": "MN8Lb97cYsXs",
        "colab": {
          "base_uri": "https://localhost:8080/"
        },
        "outputId": "4af8422f-a723-4bb8-e270-6d65cb84ef70"
      },
      "execution_count": 35,
      "outputs": [
        {
          "output_type": "stream",
          "name": "stdout",
          "text": [
            "発注id| 顧客名| 住所| 配送日| 商品id| 商品id| カテゴリ| 商品名| 価格|\n",
            "1 A氏 Q市 2022-11-11 5 5 食料品 食パン 150\n",
            "2 D氏 S市 2022-11-11 2 2 電化製品 アイロン 1200\n",
            "3 R氏 X市 2022-11-11 1 1 書籍 SQLの本 2500\n",
            "4 O氏 L市 2022-11-12 3 3 衣類 セーター 2000\n",
            "5 K氏 C市 2022-11-12 4 4 文房具 コンパス 300\n",
            "6 A氏 Q市 2022-11-12 8 8 衣類 シャツ 1000\n",
            "7 D氏 S市 2022-11-14 7 7 電化製品 洗濯機 20000\n",
            "8 R氏 X市 2022-11-14 6 6 書籍 Pythonの本 2500\n",
            "9 O氏 L市 2022-11-14 9 9 食料品 お米 1250\n",
            "10 K氏 C市 2022-11-14 12 12 文房具 定規 200\n",
            "11 A氏 Q市 2022-11-13 14 14 食料品 秋田米 4000\n",
            "12 D氏 S市 2022-11-13 10 10 電化製品 テレビ 23000\n",
            "13 R氏 X市 2022-11-16 11 11 衣類 コート 30000\n",
            "14 O氏 L市 2022-11-16 13 13 食料品 北海道 2400\n",
            "15 K氏 C市 2022-11-16 15 15 食料品 岩手米 3800\n",
            "16 R氏 X市 2022-11-17 16 16 食料品 新潟米 2600\n"
          ]
        }
      ]
    },
    {
      "cell_type": "markdown",
      "source": [
        "###JOIN句で結合する"
      ],
      "metadata": {
        "id": "MK1VnzNKeEaD"
      }
    },
    {
      "cell_type": "markdown",
      "source": [
        "####内部結合"
      ],
      "metadata": {
        "id": "vgE8wQAXfqtj"
      }
    },
    {
      "cell_type": "code",
      "source": [
        "#INNER JOIN ON\n",
        "sql=\"\"\"SELECT *\n",
        "         FROM 発注テーブル INNER JOIN 商品テーブル\n",
        "         ON 発注テーブル.商品id = 商品テーブル.商品id\"\"\"\n",
        "ck_sql()"
      ],
      "metadata": {
        "id": "p6O6Vl5XeI87",
        "colab": {
          "base_uri": "https://localhost:8080/"
        },
        "outputId": "62f8a2b0-c822-40f6-d82a-c7c55a78429a"
      },
      "execution_count": 36,
      "outputs": [
        {
          "output_type": "stream",
          "name": "stdout",
          "text": [
            "発注id| 顧客名| 住所| 配送日| 商品id| 商品id| カテゴリ| 商品名| 価格|\n",
            "1 A氏 Q市 2022-11-11 5 5 食料品 食パン 150\n",
            "2 D氏 S市 2022-11-11 2 2 電化製品 アイロン 1200\n",
            "3 R氏 X市 2022-11-11 1 1 書籍 SQLの本 2500\n",
            "4 O氏 L市 2022-11-12 3 3 衣類 セーター 2000\n",
            "5 K氏 C市 2022-11-12 4 4 文房具 コンパス 300\n",
            "6 A氏 Q市 2022-11-12 8 8 衣類 シャツ 1000\n",
            "7 D氏 S市 2022-11-14 7 7 電化製品 洗濯機 20000\n",
            "8 R氏 X市 2022-11-14 6 6 書籍 Pythonの本 2500\n",
            "9 O氏 L市 2022-11-14 9 9 食料品 お米 1250\n",
            "10 K氏 C市 2022-11-14 12 12 文房具 定規 200\n",
            "11 A氏 Q市 2022-11-13 14 14 食料品 秋田米 4000\n",
            "12 D氏 S市 2022-11-13 10 10 電化製品 テレビ 23000\n",
            "13 R氏 X市 2022-11-16 11 11 衣類 コート 30000\n",
            "14 O氏 L市 2022-11-16 13 13 食料品 北海道 2400\n",
            "15 K氏 C市 2022-11-16 15 15 食料品 岩手米 3800\n",
            "16 R氏 X市 2022-11-17 16 16 食料品 新潟米 2600\n"
          ]
        }
      ]
    },
    {
      "cell_type": "code",
      "source": [
        "#INNER JOIN USING ←同じ名前の属性で結合する場合は'USING'が使えます。\n",
        "sql=\"\"\"SELECT *\n",
        "         FROM 発注テーブル INNER JOIN 商品テーブル\n",
        "         USING(商品id)\"\"\"\n",
        "ck_sql()"
      ],
      "metadata": {
        "id": "VFTuzKLUe917",
        "colab": {
          "base_uri": "https://localhost:8080/"
        },
        "outputId": "98cef077-8016-489c-c263-96e08c14f121"
      },
      "execution_count": 37,
      "outputs": [
        {
          "output_type": "stream",
          "name": "stdout",
          "text": [
            "発注id| 顧客名| 住所| 配送日| 商品id| カテゴリ| 商品名| 価格|\n",
            "1 A氏 Q市 2022-11-11 5 食料品 食パン 150\n",
            "2 D氏 S市 2022-11-11 2 電化製品 アイロン 1200\n",
            "3 R氏 X市 2022-11-11 1 書籍 SQLの本 2500\n",
            "4 O氏 L市 2022-11-12 3 衣類 セーター 2000\n",
            "5 K氏 C市 2022-11-12 4 文房具 コンパス 300\n",
            "6 A氏 Q市 2022-11-12 8 衣類 シャツ 1000\n",
            "7 D氏 S市 2022-11-14 7 電化製品 洗濯機 20000\n",
            "8 R氏 X市 2022-11-14 6 書籍 Pythonの本 2500\n",
            "9 O氏 L市 2022-11-14 9 食料品 お米 1250\n",
            "10 K氏 C市 2022-11-14 12 文房具 定規 200\n",
            "11 A氏 Q市 2022-11-13 14 食料品 秋田米 4000\n",
            "12 D氏 S市 2022-11-13 10 電化製品 テレビ 23000\n",
            "13 R氏 X市 2022-11-16 11 衣類 コート 30000\n",
            "14 O氏 L市 2022-11-16 13 食料品 北海道 2400\n",
            "15 K氏 C市 2022-11-16 15 食料品 岩手米 3800\n",
            "16 R氏 X市 2022-11-17 16 食料品 新潟米 2600\n"
          ]
        }
      ]
    },
    {
      "cell_type": "markdown",
      "source": [
        "####外部結合"
      ],
      "metadata": {
        "id": "5lMqqsFLfwwz"
      }
    },
    {
      "cell_type": "code",
      "source": [
        "#左外部結合\n",
        "sql=\"\"\"SELECT *\n",
        "         FROM 発注テーブル LEFT OUTER JOIN 商品テーブル\n",
        "         ON 発注テーブル.商品id = 商品テーブル.商品id\"\"\"\n",
        "ck_sql()\n"
      ],
      "metadata": {
        "id": "mRaLvaT5hDPT",
        "colab": {
          "base_uri": "https://localhost:8080/"
        },
        "outputId": "5c50e31f-f640-42f8-b6e3-b068fc17970e"
      },
      "execution_count": 38,
      "outputs": [
        {
          "output_type": "stream",
          "name": "stdout",
          "text": [
            "発注id| 顧客名| 住所| 配送日| 商品id| 商品id| カテゴリ| 商品名| 価格|\n",
            "1 A氏 Q市 2022-11-11 5 5 食料品 食パン 150\n",
            "2 D氏 S市 2022-11-11 2 2 電化製品 アイロン 1200\n",
            "3 R氏 X市 2022-11-11 1 1 書籍 SQLの本 2500\n",
            "4 O氏 L市 2022-11-12 3 3 衣類 セーター 2000\n",
            "5 K氏 C市 2022-11-12 4 4 文房具 コンパス 300\n",
            "6 A氏 Q市 2022-11-12 8 8 衣類 シャツ 1000\n",
            "7 D氏 S市 2022-11-14 7 7 電化製品 洗濯機 20000\n",
            "8 R氏 X市 2022-11-14 6 6 書籍 Pythonの本 2500\n",
            "9 O氏 L市 2022-11-14 9 9 食料品 お米 1250\n",
            "10 K氏 C市 2022-11-14 12 12 文房具 定規 200\n",
            "11 A氏 Q市 2022-11-13 14 14 食料品 秋田米 4000\n",
            "12 D氏 S市 2022-11-13 10 10 電化製品 テレビ 23000\n",
            "13 R氏 X市 2022-11-16 11 11 衣類 コート 30000\n",
            "14 O氏 L市 2022-11-16 13 13 食料品 北海道 2400\n",
            "15 K氏 C市 2022-11-16 15 15 食料品 岩手米 3800\n",
            "16 R氏 X市 2022-11-17 16 16 食料品 新潟米 2600\n"
          ]
        }
      ]
    },
    {
      "cell_type": "code",
      "source": [
        "#左外部結合 商品テーブル（左）発注テーブル（右）の時\n",
        "sql=\"\"\"SELECT *\n",
        "         FROM 商品テーブル LEFT OUTER JOIN 発注テーブル\n",
        "         ON 発注テーブル.商品id = 商品テーブル.商品id\"\"\"\n",
        "ck_sql()"
      ],
      "metadata": {
        "id": "NiG9ciFk71nx",
        "colab": {
          "base_uri": "https://localhost:8080/"
        },
        "outputId": "7b4369f5-eebf-4f62-faa1-e1d41b11d380"
      },
      "execution_count": 39,
      "outputs": [
        {
          "output_type": "stream",
          "name": "stdout",
          "text": [
            "商品id| カテゴリ| 商品名| 価格| 発注id| 顧客名| 住所| 配送日| 商品id|\n",
            "1 書籍 SQLの本 2500 3 R氏 X市 2022-11-11 1\n",
            "2 電化製品 アイロン 1200 2 D氏 S市 2022-11-11 2\n",
            "3 衣類 セーター 2000 4 O氏 L市 2022-11-12 3\n",
            "4 文房具 コンパス 300 5 K氏 C市 2022-11-12 4\n",
            "5 食料品 食パン 150 1 A氏 Q市 2022-11-11 5\n",
            "6 書籍 Pythonの本 2500 8 R氏 X市 2022-11-14 6\n",
            "7 電化製品 洗濯機 20000 7 D氏 S市 2022-11-14 7\n",
            "8 衣類 シャツ 1000 6 A氏 Q市 2022-11-12 8\n",
            "9 食料品 お米 1250 9 O氏 L市 2022-11-14 9\n",
            "10 電化製品 テレビ 23000 12 D氏 S市 2022-11-13 10\n",
            "11 衣類 コート 30000 13 R氏 X市 2022-11-16 11\n",
            "12 文房具 定規 200 10 K氏 C市 2022-11-14 12\n",
            "13 食料品 北海道 2400 14 O氏 L市 2022-11-16 13\n",
            "14 食料品 秋田米 4000 11 A氏 Q市 2022-11-13 14\n",
            "15 食料品 岩手米 3800 15 K氏 C市 2022-11-16 15\n",
            "16 食料品 新潟米 2600 16 R氏 X市 2022-11-17 16\n",
            "17 食料品 卵 180 None None None None None\n",
            "18 書籍 C#の本 2800 None None None None None\n",
            "19 電化製品 ドライヤー 3200 None None None None None\n",
            "20 文房具 ノート 100 None None None None None\n",
            "21 食料品 豆腐 100 None None None None None\n",
            "22 書籍 JAVAの本 2600 None None None None None\n",
            "23 電化製品 電気ポット 2200 None None None None None\n",
            "24 文房具 ホチキス 300 None None None None None\n"
          ]
        }
      ]
    },
    {
      "cell_type": "code",
      "source": [
        "#右外部結合→sqlite3で右外部結合と全外部結合は未対応です。"
      ],
      "metadata": {
        "id": "ivZDtBBXiBtr"
      },
      "execution_count": null,
      "outputs": []
    },
    {
      "cell_type": "code",
      "source": [
        "#自然結合\n",
        "sql=\"\"\"SELECT *\n",
        " FROM 発注テーブル NATURAL INNER JOIN  商品テーブル\"\"\"\n",
        "ck_sql()"
      ],
      "metadata": {
        "id": "nDUI5doMrT4a",
        "colab": {
          "base_uri": "https://localhost:8080/"
        },
        "outputId": "85cd9333-216f-47d5-81a5-d0ac5a3165ee"
      },
      "execution_count": 40,
      "outputs": [
        {
          "output_type": "stream",
          "name": "stdout",
          "text": [
            "発注id| 顧客名| 住所| 配送日| 商品id| カテゴリ| 商品名| 価格|\n",
            "1 A氏 Q市 2022-11-11 5 食料品 食パン 150\n",
            "2 D氏 S市 2022-11-11 2 電化製品 アイロン 1200\n",
            "3 R氏 X市 2022-11-11 1 書籍 SQLの本 2500\n",
            "4 O氏 L市 2022-11-12 3 衣類 セーター 2000\n",
            "5 K氏 C市 2022-11-12 4 文房具 コンパス 300\n",
            "6 A氏 Q市 2022-11-12 8 衣類 シャツ 1000\n",
            "7 D氏 S市 2022-11-14 7 電化製品 洗濯機 20000\n",
            "8 R氏 X市 2022-11-14 6 書籍 Pythonの本 2500\n",
            "9 O氏 L市 2022-11-14 9 食料品 お米 1250\n",
            "10 K氏 C市 2022-11-14 12 文房具 定規 200\n",
            "11 A氏 Q市 2022-11-13 14 食料品 秋田米 4000\n",
            "12 D氏 S市 2022-11-13 10 電化製品 テレビ 23000\n",
            "13 R氏 X市 2022-11-16 11 衣類 コート 30000\n",
            "14 O氏 L市 2022-11-16 13 食料品 北海道 2400\n",
            "15 K氏 C市 2022-11-16 15 食料品 岩手米 3800\n",
            "16 R氏 X市 2022-11-17 16 食料品 新潟米 2600\n"
          ]
        }
      ]
    },
    {
      "cell_type": "markdown",
      "source": [
        "###和・差・直積・積で結合する"
      ],
      "metadata": {
        "id": "qeV4j4xhsf5q"
      }
    },
    {
      "cell_type": "markdown",
      "source": [
        "###商品テーブル2を作成する"
      ],
      "metadata": {
        "id": "AQyLkNHet8mh"
      }
    },
    {
      "cell_type": "code",
      "source": [
        "#商品テーブル2を作成する\n",
        "\n",
        "sql=f\"\"\"CREATE  TABLE  商品テーブル2( \n",
        "               商品id INTEGER PRIMARY KEY ,\n",
        "               カテゴリ TEXT ,\n",
        "               商品名 TEXT ,\n",
        "               価格 INTEGER)\"\"\"\n",
        "c_sql()"
      ],
      "metadata": {
        "id": "D19FDADguRCK",
        "colab": {
          "base_uri": "https://localhost:8080/"
        },
        "outputId": "0b5aeb69-d97d-408c-8a59-008109fc21ee"
      },
      "execution_count": 47,
      "outputs": [
        {
          "output_type": "stream",
          "name": "stdout",
          "text": [
            "【商品テーブル2】\n",
            "商品id｜カテゴリ｜商品名｜価格｜"
          ]
        }
      ]
    },
    {
      "cell_type": "code",
      "source": [
        "#商品テーブル2にデータを挿入する\n",
        "sql=\"INSERT INTO 商品テーブル2(カテゴリ,商品名,価格) VALUES( ?, ?, ?)\"\n",
        "data=[\n",
        "    ('書籍','SQLの本',2500),\n",
        "    ('電化製品','アイロン',1200),\n",
        "    ('衣類','セーター',2000),\n",
        "    ('文房具','コンパス',300),\n",
        "    ('食料品','食パン',150),\n",
        "    ('書籍','Pythonの本',2500),\n",
        "    ('電化製品','洗濯機',20000),\n",
        "    ('衣類','シャツ',1000),\n",
        "    ('食料品','お米',1250),\n",
        "    ('電化製品','テレビ',23000),\n",
        "    ('衣類','コート',30000),\n",
        "    ('書籍','C++の本',2500),\n",
        "    ('電化製品','冷蔵庫',20000),\n",
        "    ('衣類','ジャンバー',3000),\n",
        "    ('文房具','蛍光ペン',80),\n",
        "    ('食料品','ふりかけ',180),\n",
        "    ('書籍','機械学習の本',2500),\n",
        "    ('電化製品','掃除機',8000),\n",
        "    ('書籍','Pythonの本',2500),\n",
        "    ('電化製品','洗濯機',20000),\n",
        "    ('衣類','シャツ',1000),\n",
        "    ('食料品','お米',1250),\n",
        "    ('電化製品','テレビ',23000),\n",
        "    ('衣類','半袖シャツ',1000),\n",
        "    ('食料品','大根',150),\n",
        "    ('電化製品','炊飯器',4000),\n",
        "    ('衣類','電子レンジ',22000),\n",
        "    ('文房具','クリップ',100),\n",
        "]"
      ],
      "metadata": {
        "id": "8tGImRvZuRCL"
      },
      "execution_count": 48,
      "outputs": []
    },
    {
      "cell_type": "code",
      "source": [
        "i_sql()"
      ],
      "metadata": {
        "id": "Vrqxd5ZDuRCL",
        "colab": {
          "base_uri": "https://localhost:8080/"
        },
        "outputId": "d1a1ed28-0359-4c80-e28e-a3735a4532cc"
      },
      "execution_count": 49,
      "outputs": [
        {
          "output_type": "stream",
          "name": "stdout",
          "text": [
            "【商品テーブル2】\n",
            "商品id｜カテゴリ｜商品名｜価格｜\n",
            "1 書籍 SQLの本 2500\n",
            "2 電化製品 アイロン 1200\n",
            "3 衣類 セーター 2000\n",
            "4 文房具 コンパス 300\n",
            "5 食料品 食パン 150\n",
            "6 書籍 Pythonの本 2500\n",
            "7 電化製品 洗濯機 20000\n",
            "8 衣類 シャツ 1000\n",
            "9 食料品 お米 1250\n",
            "10 電化製品 テレビ 23000\n",
            "11 衣類 コート 30000\n",
            "12 書籍 C++の本 2500\n",
            "13 電化製品 冷蔵庫 20000\n",
            "14 衣類 ジャンバー 3000\n",
            "15 文房具 蛍光ペン 80\n",
            "16 食料品 ふりかけ 180\n",
            "17 書籍 機械学習の本 2500\n",
            "18 電化製品 掃除機 8000\n",
            "19 書籍 Pythonの本 2500\n",
            "20 電化製品 洗濯機 20000\n",
            "21 衣類 シャツ 1000\n",
            "22 食料品 お米 1250\n",
            "23 電化製品 テレビ 23000\n",
            "24 衣類 半袖シャツ 1000\n",
            "25 食料品 大根 150\n",
            "26 電化製品 炊飯器 4000\n",
            "27 衣類 電子レンジ 22000\n",
            "28 文房具 クリップ 100\n"
          ]
        }
      ]
    },
    {
      "cell_type": "markdown",
      "source": [
        "###和"
      ],
      "metadata": {
        "id": "RMyy65gvvqca"
      }
    },
    {
      "cell_type": "code",
      "source": [
        "#重複無し\n",
        "sql=r\"\"\"SELECT 商品名,価格 FROM 商品テーブル\n",
        "UNION \n",
        "SELECT 商品名,価格 FROM 商品テーブル2\"\"\"\n",
        "ck_sql()"
      ],
      "metadata": {
        "id": "x9lF7CiXsW1C"
      },
      "execution_count": null,
      "outputs": []
    },
    {
      "cell_type": "code",
      "source": [
        "\n",
        "sql=f\"SELECT  COUNT(*) FROM ({sql})\"\n",
        "ck_sql()"
      ],
      "metadata": {
        "colab": {
          "base_uri": "https://localhost:8080/"
        },
        "id": "Z4RY2KpzCaUi",
        "outputId": "cd7c7ba2-46f8-45f0-d624-9e6531285c2a"
      },
      "execution_count": 57,
      "outputs": [
        {
          "output_type": "stream",
          "name": "stdout",
          "text": [
            "COUNT(*)|\n",
            "36\n"
          ]
        }
      ]
    },
    {
      "cell_type": "code",
      "source": [
        "#重複あり\n",
        "sql=\"\"\"SELECT 商品名,価格  FROM 商品テーブル\n",
        "UNION ALL\n",
        "SELECT 商品名,価格 FROM 商品テーブル2\"\"\"\n",
        "ck_sql()"
      ],
      "metadata": {
        "id": "ViM2dHWSwXXr"
      },
      "execution_count": null,
      "outputs": []
    },
    {
      "cell_type": "code",
      "source": [
        "s=sql\n",
        "sql=f\" SELECT COUNT(*) FROM ({s})\"\n",
        "ck_sql()"
      ],
      "metadata": {
        "colab": {
          "base_uri": "https://localhost:8080/"
        },
        "id": "uL38DoPwIjcJ",
        "outputId": "c05888d1-9012-4abb-91b2-a153ccd4ef92"
      },
      "execution_count": 67,
      "outputs": [
        {
          "output_type": "stream",
          "name": "stdout",
          "text": [
            "COUNT(*)|\n",
            "52\n"
          ]
        }
      ]
    },
    {
      "cell_type": "markdown",
      "source": [
        "###差"
      ],
      "metadata": {
        "id": "RsMn7I5GzGyi"
      }
    },
    {
      "cell_type": "code",
      "source": [
        "#商品テーブル-商品テーブル2\n",
        "sql=\"\"\"SELECT 商品名,価格  FROM 商品テーブル\n",
        "EXCEPT\n",
        "SELECT 商品名,価格  FROM 商品テーブル2\"\"\"\n",
        "print(\"【商品テーブルにあって商品テーブル2に無いもの】\\n\")\n",
        "ck_sql()"
      ],
      "metadata": {
        "id": "TxjrJReBzMLi",
        "colab": {
          "base_uri": "https://localhost:8080/"
        },
        "outputId": "d8ab3fce-b7fa-4ca0-aa2a-825c2f3babf6"
      },
      "execution_count": 68,
      "outputs": [
        {
          "output_type": "stream",
          "name": "stdout",
          "text": [
            "【商品テーブルにあって商品テーブル2に無いもの】\n",
            "\n",
            "商品名| 価格|\n",
            "C#の本 2800\n",
            "JAVAの本 2600\n",
            "ドライヤー 3200\n",
            "ノート 100\n",
            "ホチキス 300\n",
            "北海道 2400\n",
            "卵 180\n",
            "定規 200\n",
            "岩手米 3800\n",
            "新潟米 2600\n",
            "秋田米 4000\n",
            "豆腐 100\n",
            "電気ポット 2200\n"
          ]
        }
      ]
    },
    {
      "cell_type": "markdown",
      "source": [
        "###テストテーブル作成"
      ],
      "metadata": {
        "id": "KgOFy9iy9QgI"
      }
    },
    {
      "cell_type": "markdown",
      "source": [
        "####テストテーブル１を作成"
      ],
      "metadata": {
        "id": "2-M30A3VRVS5"
      }
    },
    {
      "cell_type": "code",
      "source": [
        "sql=\"CREATE TABLE テストテーブル1 (項目1 TEXT,項目2 TEXT,項目3 TEXT)\"\n",
        "c_sql()"
      ],
      "metadata": {
        "id": "5-plhDWyAtcZ",
        "colab": {
          "base_uri": "https://localhost:8080/"
        },
        "outputId": "0c1f8303-5ebb-46a3-ab7c-bf24dc09878c"
      },
      "execution_count": 69,
      "outputs": [
        {
          "output_type": "stream",
          "name": "stdout",
          "text": [
            "【テストテーブル1】\n",
            "項目1｜項目2｜項目3｜"
          ]
        }
      ]
    },
    {
      "cell_type": "code",
      "source": [
        "sql=\"INSERT INTO テストテーブル1(項目1,項目2,項目3) VALUES(?,?,?)\"\n",
        "data=[(\"a\",\"あ\",\"ア\"),\n",
        "      (\"b\",\"い\",\"イ\"),\n",
        "      (\"c\",\"う\",\"ウ\")]\n",
        "i_sql()"
      ],
      "metadata": {
        "id": "SgaaX6jj9OkY",
        "colab": {
          "base_uri": "https://localhost:8080/"
        },
        "outputId": "f5ea5470-f653-492e-f9e2-c55709d509dc"
      },
      "execution_count": 71,
      "outputs": [
        {
          "output_type": "stream",
          "name": "stdout",
          "text": [
            "【テストテーブル1】\n",
            "項目1｜項目2｜項目3｜\n",
            "a あ ア\n",
            "b い イ\n",
            "c う ウ\n"
          ]
        }
      ]
    },
    {
      "cell_type": "markdown",
      "source": [
        "####テストテーブル２を作成"
      ],
      "metadata": {
        "id": "P7tytThTRb3a"
      }
    },
    {
      "cell_type": "code",
      "source": [
        "sql=\"\"\"CREATE TABLE テストテーブル2(項目1 TEXT,項目2 TEXT,項目3 TEXT)\"\"\"\n",
        "c_sql()"
      ],
      "metadata": {
        "colab": {
          "base_uri": "https://localhost:8080/"
        },
        "id": "UehGTbK6_h2Z",
        "outputId": "64860cad-cc2b-4965-f4c1-01c9a14fabd2"
      },
      "execution_count": 74,
      "outputs": [
        {
          "output_type": "stream",
          "name": "stdout",
          "text": [
            "【テストテーブル2】\n",
            "項目1｜項目2｜項目3｜"
          ]
        }
      ]
    },
    {
      "cell_type": "code",
      "source": [
        "sql=\"INSERT INTO テストテーブル2(項目1,項目2,項目3) VALUES(?,?,?)\"\n",
        "data=[(\"a\",\"あ\",\"ア\"),\n",
        "      (\"c\",\"う\",\"ウ\"),\n",
        "      (\"d\",\"え\",\"エ\")]    \n",
        "i_sql()"
      ],
      "metadata": {
        "id": "pqS9xZpBPo56",
        "colab": {
          "base_uri": "https://localhost:8080/"
        },
        "outputId": "fc358331-05ee-4324-cee7-9a770df79f48"
      },
      "execution_count": 76,
      "outputs": [
        {
          "output_type": "stream",
          "name": "stdout",
          "text": [
            "【テストテーブル2】\n",
            "項目1｜項目2｜項目3｜\n",
            "a あ ア\n",
            "c う ウ\n",
            "d え エ\n"
          ]
        }
      ]
    },
    {
      "cell_type": "markdown",
      "source": [
        "###直積"
      ],
      "metadata": {
        "id": "whxTA07q9Kph"
      }
    },
    {
      "cell_type": "code",
      "source": [
        "sql=\"\"\"SELECT * FROM テストテーブル1\n",
        "CROSS JOIN  テストテーブル2\"\"\"\n",
        "ck_sql()"
      ],
      "metadata": {
        "colab": {
          "base_uri": "https://localhost:8080/"
        },
        "id": "-a_GXe1szvoK",
        "outputId": "4ff56e7f-6901-4309-8a54-936c0115c188"
      },
      "execution_count": 77,
      "outputs": [
        {
          "output_type": "stream",
          "name": "stdout",
          "text": [
            "項目1| 項目2| 項目3| 項目1| 項目2| 項目3|\n",
            "a あ ア a あ ア\n",
            "a あ ア c う ウ\n",
            "a あ ア d え エ\n",
            "b い イ a あ ア\n",
            "b い イ c う ウ\n",
            "b い イ d え エ\n",
            "c う ウ a あ ア\n",
            "c う ウ c う ウ\n",
            "c う ウ d え エ\n"
          ]
        }
      ]
    },
    {
      "cell_type": "markdown",
      "source": [
        "###積"
      ],
      "metadata": {
        "id": "M4IMOeTZNyoX"
      }
    },
    {
      "cell_type": "code",
      "source": [
        "sql=\"\"\"SELECT * FROM テストテーブル1\n",
        "INTERSECT\n",
        "SELECT * FROM テストテーブル2\"\"\"\n",
        "ck_sql()"
      ],
      "metadata": {
        "colab": {
          "base_uri": "https://localhost:8080/"
        },
        "id": "olo-Ye-ENvvR",
        "outputId": "5c1ff5f4-ba20-42fa-b26b-7a71fada34c2"
      },
      "execution_count": 78,
      "outputs": [
        {
          "output_type": "stream",
          "name": "stdout",
          "text": [
            "項目1| 項目2| 項目3|\n",
            "a あ ア\n",
            "c う ウ\n"
          ]
        }
      ]
    },
    {
      "cell_type": "markdown",
      "source": [
        "##副問い合わせをする"
      ],
      "metadata": {
        "id": "dx50SEJ_Esy5"
      }
    },
    {
      "cell_type": "code",
      "source": [
        "sql=\"\"\"SELECT 　　商品名"
      ],
      "metadata": {
        "id": "WZ0IVvF5Er-h"
      },
      "execution_count": null,
      "outputs": []
    },
    {
      "cell_type": "markdown",
      "source": [
        "##csv読み込み練習"
      ],
      "metadata": {
        "id": "b5NMko88pwQE"
      }
    },
    {
      "cell_type": "code",
      "source": [
        "import csv\n",
        "data=[]\n",
        "with open('/content/hibakusha.csv') as f:\n",
        "    reader= csv.reader(f)\n",
        "    for line in reader:\n",
        "        print(line)\n",
        "        data.append(tuple(line))"
      ],
      "metadata": {
        "id": "5N1z1U2LSdb_",
        "colab": {
          "base_uri": "https://localhost:8080/"
        },
        "outputId": "b61a667d-c72b-4a12-af21-6472e23e858a"
      },
      "execution_count": null,
      "outputs": [
        {
          "output_type": "stream",
          "name": "stdout",
          "text": [
            "['\\ufeff性別', '年齢', '被爆者数', '調査対象者数', '回答者数', '回収率']\n",
            "['男', '７０歳以下', '7,392', '2,240', '1,535', '0.685']\n",
            "['男', '７１歳～８０歳', '32,011', '9,601', '7,586', '0.79']\n",
            "['男', '８１歳～９０歳', '26,784', '7,998', '6,054', '0.757']\n",
            "['男', '９１歳以上', '2,741', '849', '587', '0.691']\n",
            "['女', '７０歳以下', '8,206', '2,483', '1,679', '0.676']\n",
            "['女', '７１歳～８０歳', '41,029', '12,270', '9,323', '0.76']\n",
            "['女', '８１歳～９０歳', '45,997', '13,768', '9,496', '0.69']\n",
            "['女', '９１歳以上', '12,094', '3,614', '2,393', '0.662']\n"
          ]
        }
      ]
    },
    {
      "cell_type": "code",
      "source": [
        "import sqlite3\n",
        "con = sqlite3.connect('hibakusha.db')\n",
        "cur = con.cursor()\n",
        "\n",
        "cur.execute('DROP TABLE IF EXISTS seibetu_nenreibetu')\n",
        "cur.execute(\"\"\"CREATE TABLE seibetu_nenreibetu(性別 TEXT, \n",
        "                                               年齢 TEXT,\n",
        "                                               被爆者数 INTEGER,\n",
        "                                               調査対象者 INTEGER,\n",
        "                                               回答者数 INTEGER,\n",
        "                                               回収率 REAL) \"\"\")\n",
        "con.commit()\n",
        "con.close()"
      ],
      "metadata": {
        "id": "Leu3UqmX81g-"
      },
      "execution_count": null,
      "outputs": []
    },
    {
      "cell_type": "code",
      "source": [
        "con = sqlite3.connect('hibakusha.db')\n",
        "cur = con.cursor()\n",
        "query = \"\"\"INSERT INTO  seibetu_nenreibetu(性別,年齢,被爆者数,調査対象者,回答者数,回収率)\n",
        "               VALUES(?,?,?,?,?,?)\"\"\"\n",
        "cur.executemany(query,data)\n",
        "con.commit()\n",
        "for row in cur.execute(\"SELECT * FROM seibetu_nenreibetu\"):\n",
        "    print(row)\n",
        "con.close()"
      ],
      "metadata": {
        "colab": {
          "base_uri": "https://localhost:8080/"
        },
        "id": "uyUv7-qq5LA0",
        "outputId": "7d7477d3-3116-4000-d9da-1e709dac8609"
      },
      "execution_count": null,
      "outputs": [
        {
          "output_type": "stream",
          "name": "stdout",
          "text": [
            "('\\ufeff性別', '年齢', '被爆者数', '調査対象者数', '回答者数', '回収率')\n",
            "('男', '７０歳以下', '7,392', '2,240', '1,535', 0.685)\n",
            "('男', '７１歳～８０歳', '32,011', '9,601', '7,586', 0.79)\n",
            "('男', '８１歳～９０歳', '26,784', '7,998', '6,054', 0.757)\n",
            "('男', '９１歳以上', '2,741', 849, 587, 0.691)\n",
            "('女', '７０歳以下', '8,206', '2,483', '1,679', 0.676)\n",
            "('女', '７１歳～８０歳', '41,029', '12,270', '9,323', 0.76)\n",
            "('女', '８１歳～９０歳', '45,997', '13,768', '9,496', 0.69)\n",
            "('女', '９１歳以上', '12,094', '3,614', '2,393', 0.662)\n"
          ]
        }
      ]
    },
    {
      "cell_type": "code",
      "source": [
        "#データベースを削除する\n",
        "con = sqlite3.connect('hibakusha.db')\n",
        "cur = con.cursor()\n",
        "cur.execute(\"DROP TABLE IF EXISTS seibetu_nenreibetu\")\n",
        "con.close()\n"
      ],
      "metadata": {
        "id": "LVWSBj_P-Q2w"
      },
      "execution_count": null,
      "outputs": []
    },
    {
      "cell_type": "code",
      "source": [],
      "metadata": {
        "id": "IVID0i0-ELJW"
      },
      "execution_count": null,
      "outputs": []
    },
    {
      "cell_type": "markdown",
      "source": [
        "# バックアップ"
      ],
      "metadata": {
        "id": "20zdkYdACoA0"
      }
    },
    {
      "cell_type": "code",
      "source": [
        "#テーブルを削除\n",
        "tbl=\"商品テーブル2\"\n",
        "sql=f\"DROP TABLE {tbl}\"\n",
        "d_sql()"
      ],
      "metadata": {
        "id": "PQsCMoKCEEL6",
        "colab": {
          "base_uri": "https://localhost:8080/"
        },
        "outputId": "23b8ee68-8466-4bb8-a679-6ecb8c8db4f6"
      },
      "execution_count": 46,
      "outputs": [
        {
          "output_type": "stream",
          "name": "stdout",
          "text": [
            "\"DROP TABLE 商品テーブル2\"を実行しました。\n"
          ]
        }
      ]
    },
    {
      "cell_type": "code",
      "source": [],
      "metadata": {
        "id": "GHz6_NVS3WU-"
      },
      "execution_count": null,
      "outputs": []
    }
  ]
}