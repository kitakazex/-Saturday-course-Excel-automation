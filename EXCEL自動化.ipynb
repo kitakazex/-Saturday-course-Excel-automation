{
  "nbformat": 4,
  "nbformat_minor": 0,
  "metadata": {
    "colab": {
      "name": "EXCEL自動化",
      "provenance": [],
      "collapsed_sections": [],
      "toc_visible": true,
      "mount_file_id": "1oam1WsmEyOJ_oV_PPMspc5LwuBTlJ6_O",
      "authorship_tag": "ABX9TyOlH5UyGrKFEU25MU7BnTCZ",
      "include_colab_link": true
    },
    "kernelspec": {
      "name": "python3",
      "display_name": "Python 3"
    },
    "language_info": {
      "name": "python"
    }
  },
  "cells": [
    {
      "cell_type": "markdown",
      "metadata": {
        "id": "view-in-github",
        "colab_type": "text"
      },
      "source": [
        "<a href=\"https://colab.research.google.com/github/kitakazex/-Saturday-course-Excel-automation/blob/master/EXCEL%E8%87%AA%E5%8B%95%E5%8C%96.ipynb\" target=\"_parent\"><img src=\"https://colab.research.google.com/assets/colab-badge.svg\" alt=\"Open In Colab\"/></a>"
      ]
    },
    {
      "cell_type": "markdown",
      "source": [
        "# 4.まずはとにかくやってみよう"
      ],
      "metadata": {
        "id": "ijRxxKLoAwJx"
      }
    },
    {
      "cell_type": "markdown",
      "source": [
        "### Excelファイル（ブック）の基本操作\n",
        "\n",
        "\n",
        "---\n",
        "openpyxlのインポート～ファイルの保存～ファイルを開く\n",
        "\n"
      ],
      "metadata": {
        "id": "V9rW8ItDshnF"
      }
    },
    {
      "cell_type": "code",
      "execution_count": 1,
      "metadata": {
        "id": "CKw30zglK_Uf"
      },
      "outputs": [],
      "source": [
        "import openpyxl"
      ]
    },
    {
      "cell_type": "code",
      "source": [
        "wb = openpyxl.Workbook()"
      ],
      "metadata": {
        "id": "GU_Y7SUWu8V3"
      },
      "execution_count": 47,
      "outputs": []
    },
    {
      "cell_type": "code",
      "source": [
        "wb.save(\"Hello.xlsx\")"
      ],
      "metadata": {
        "id": "OjXFxF5Qvynl"
      },
      "execution_count": 3,
      "outputs": []
    },
    {
      "cell_type": "code",
      "source": [
        "wb.close()"
      ],
      "metadata": {
        "id": "DYv62GVyiJh6"
      },
      "execution_count": 46,
      "outputs": []
    },
    {
      "cell_type": "code",
      "source": [
        "wb=openpyxl.load_workbook(\"Hello.xlsx\")"
      ],
      "metadata": {
        "id": "oAqlRamEkRTI"
      },
      "execution_count": 5,
      "outputs": []
    },
    {
      "cell_type": "markdown",
      "source": [
        "### Excelファイル（シート）の基本操作\n",
        "\n",
        "\n",
        "---\n",
        "アクティブなシートの指定～セルへの書き込み、読み取り\n",
        "\n"
      ],
      "metadata": {
        "id": "Ick17b3KBlh-"
      }
    },
    {
      "cell_type": "markdown",
      "source": [
        "A1参照形式の場合"
      ],
      "metadata": {
        "id": "kjdMEY0yDxlu"
      }
    },
    {
      "cell_type": "code",
      "source": [
        "#1. アクティブなシートをwsに割り当て\n",
        "ws=wb.active"
      ],
      "metadata": {
        "id": "1xp6Wr6vxdnU"
      },
      "execution_count": 48,
      "outputs": []
    },
    {
      "cell_type": "code",
      "source": [
        "#2. A1セルに\"Hello! openpyxl\"と書き込み\n",
        "ws[\"A1\"].value=\"Hello! openpyxl!\""
      ],
      "metadata": {
        "id": "bSXFT_pMyb3K"
      },
      "execution_count": 8,
      "outputs": []
    },
    {
      "cell_type": "code",
      "source": [
        "#3.A1セルの値を読み取り\n",
        "ws[\"A1\"].value"
      ],
      "metadata": {
        "colab": {
          "base_uri": "https://localhost:8080/",
          "height": 35
        },
        "id": "YYUPyW4R0xDB",
        "outputId": "3029124a-d429-45c0-a0a2-65ce8953a22e"
      },
      "execution_count": 9,
      "outputs": [
        {
          "output_type": "execute_result",
          "data": {
            "application/vnd.google.colaboratory.intrinsic+json": {
              "type": "string"
            },
            "text/plain": [
              "'Hello! openpyxl!'"
            ]
          },
          "metadata": {},
          "execution_count": 9
        }
      ]
    },
    {
      "cell_type": "markdown",
      "source": [
        "R1C1参照形式の場合"
      ],
      "metadata": {
        "id": "jz4NaIjMDgwE"
      }
    },
    {
      "cell_type": "code",
      "source": [
        "#1. アクティブなシートを　変数（ws）に割り当て\n",
        "ws=wb.active"
      ],
      "metadata": {
        "id": "J0HKz6IuDgLF"
      },
      "execution_count": 11,
      "outputs": []
    },
    {
      "cell_type": "code",
      "source": [
        "#2. A1セルに”Hello! openpyxl”と　書き込み［手順①］\n",
        "ws.cell(row=1,column=1,value=\"Hello! openpyxl!\")"
      ],
      "metadata": {
        "id": "T3K0pLQcOF8G",
        "colab": {
          "base_uri": "https://localhost:8080/"
        },
        "outputId": "59ef5e5d-7009-42ea-c67b-090942d2f07e"
      },
      "execution_count": null,
      "outputs": [
        {
          "output_type": "execute_result",
          "data": {
            "text/plain": [
              "<Cell 'Sheet'.A1>"
            ]
          },
          "metadata": {},
          "execution_count": 56
        }
      ]
    },
    {
      "cell_type": "code",
      "source": [
        "#2'. A1セルに”Hello! openpyxl”と　書き込み［手順②］\n",
        "a=ws.cell(row=1,column=1)#aはセルです。\n",
        "a.value=\"Hello! openpyxl!\""
      ],
      "metadata": {
        "id": "ZXz5MVwfHGZh"
      },
      "execution_count": 12,
      "outputs": []
    },
    {
      "cell_type": "code",
      "source": [
        "#3.A1セルの値を読み取り\n",
        "b=ws.cell(row=1,column=1).value\n",
        "b"
      ],
      "metadata": {
        "colab": {
          "base_uri": "https://localhost:8080/",
          "height": 35
        },
        "id": "o-C1KGpMrS5G",
        "outputId": "53f3deb6-5cf6-4fb2-a0b1-6cd4e9d16026"
      },
      "execution_count": 13,
      "outputs": [
        {
          "output_type": "execute_result",
          "data": {
            "application/vnd.google.colaboratory.intrinsic+json": {
              "type": "string"
            },
            "text/plain": [
              "'Hello! openpyxl!'"
            ]
          },
          "metadata": {},
          "execution_count": 13
        }
      ]
    },
    {
      "cell_type": "markdown",
      "source": [
        "###A1参照形式とR1C1参照形式の入れ替え\n",
        "\n",
        "---\n",
        "ここではD5セルをR5C4に出力し、再びD5に戻します。\n"
      ],
      "metadata": {
        "id": "WrB9n5_Uuw0s"
      }
    },
    {
      "cell_type": "code",
      "source": [
        "cell=ws[\"D5\"]\n",
        "cell.value=\"ここはD5セルです。\"\n",
        "\n",
        "row,column=cell.row,cell.col_idx\n",
        "print(f'R{row}C{column}の値を読み取ります。')\n",
        "ws.cell(row,column).value"
      ],
      "metadata": {
        "colab": {
          "base_uri": "https://localhost:8080/",
          "height": 52
        },
        "id": "sghnItvxu_Vk",
        "outputId": "0f88b76a-2dcb-45e6-bd43-e49f8885b5f7"
      },
      "execution_count": 16,
      "outputs": [
        {
          "output_type": "stream",
          "name": "stdout",
          "text": [
            "R5C4の値を読み取ります。\n"
          ]
        },
        {
          "output_type": "execute_result",
          "data": {
            "application/vnd.google.colaboratory.intrinsic+json": {
              "type": "string"
            },
            "text/plain": [
              "'ここはD5セルです。'"
            ]
          },
          "metadata": {},
          "execution_count": 16
        }
      ]
    },
    {
      "cell_type": "code",
      "source": [
        "cell=ws.cell(5,4,\"ここはR5C4のセルです。\")\n",
        "\n",
        "print(f'{cell.coordinate}の値を読み取ります。')\n",
        "ws[cell.coordinate].value"
      ],
      "metadata": {
        "id": "nwDDuBI7HQd7",
        "colab": {
          "base_uri": "https://localhost:8080/",
          "height": 52
        },
        "outputId": "7fc02607-c235-4d06-caa9-db4573fd4ea4"
      },
      "execution_count": 15,
      "outputs": [
        {
          "output_type": "stream",
          "name": "stdout",
          "text": [
            "D5の値を読み取ります。\n"
          ]
        },
        {
          "output_type": "execute_result",
          "data": {
            "application/vnd.google.colaboratory.intrinsic+json": {
              "type": "string"
            },
            "text/plain": [
              "'ここはR5C4のセルです。'"
            ]
          },
          "metadata": {},
          "execution_count": 15
        }
      ]
    },
    {
      "cell_type": "markdown",
      "source": [
        "#5.複数のセルやシートを操作しよう"
      ],
      "metadata": {
        "id": "Zt41XUX-An41"
      }
    },
    {
      "cell_type": "markdown",
      "source": [
        "## 複数セルの操作"
      ],
      "metadata": {
        "id": "ZMCC1OQ0veay"
      }
    },
    {
      "cell_type": "markdown",
      "source": [
        "### ①for文を使う場合"
      ],
      "metadata": {
        "id": "FfA5EZZUnHue"
      }
    },
    {
      "cell_type": "code",
      "source": [
        "for row in range(1,5):\n",
        "    values=[]\n",
        "    for column in range(1,5):\n",
        "        cell=ws.cell(row,column)\n",
        "        cell.value=cell.coordinate\n",
        "        values.append(cell.value)\n",
        "    print(\",\".join(values))  "
      ],
      "metadata": {
        "colab": {
          "base_uri": "https://localhost:8080/"
        },
        "outputId": "9f8a2770-507e-4ce4-b25d-60f762781f29",
        "id": "X4IIO5TWWHZY"
      },
      "execution_count": 49,
      "outputs": [
        {
          "output_type": "stream",
          "name": "stdout",
          "text": [
            "A1,B1,C1,D1\n",
            "A2,B2,C2,D2\n",
            "A3,B3,C3,D3\n",
            "A4,B4,C4,D4\n"
          ]
        }
      ]
    },
    {
      "cell_type": "markdown",
      "source": [
        "###②A1参照で範囲指定する場合"
      ],
      "metadata": {
        "id": "PQfZ0X8LuaS6"
      }
    },
    {
      "cell_type": "code",
      "source": [
        "rng1 = ws[\"A1:C3\"]\n",
        "for row in rng1:\n",
        "    values=[]\n",
        "    for cell in row:\n",
        "        values.append(cell.value)\n",
        "    print(\",\".join(values))   "
      ],
      "metadata": {
        "colab": {
          "base_uri": "https://localhost:8080/"
        },
        "id": "dXAlOR2u43z5",
        "outputId": "9c7ecc95-a2fe-4530-f110-b7d627468a17"
      },
      "execution_count": 44,
      "outputs": [
        {
          "output_type": "stream",
          "name": "stdout",
          "text": [
            "A1,B1,C1\n",
            "A2,B2,C2\n",
            "A3,B3,C3\n"
          ]
        }
      ]
    },
    {
      "cell_type": "markdown",
      "source": [
        "###③R1C1参照で範囲指定する場合 "
      ],
      "metadata": {
        "id": "zUWPHPLzuvzr"
      }
    },
    {
      "cell_type": "code",
      "source": [
        "rng2=ws.iter_rows(min_row=1,max_row=3,\n",
        "                  min_col=1,max_col=3)\n",
        "for rows in rng2:\n",
        "    values=[]\n",
        "    for cell in rows:\n",
        "        values.append(cell.value)\n",
        "    print(\",\".join(values))\n"
      ],
      "metadata": {
        "id": "UPuoNMPi-4H2",
        "colab": {
          "base_uri": "https://localhost:8080/"
        },
        "outputId": "9cef0d57-a414-4e5d-8270-efa31cb2986e"
      },
      "execution_count": 34,
      "outputs": [
        {
          "output_type": "stream",
          "name": "stdout",
          "text": [
            "A1,B1,C1\n",
            "A2,B2,C2\n",
            "A3,B3,C3\n"
          ]
        }
      ]
    },
    {
      "cell_type": "markdown",
      "source": [
        "##複数シートの操作"
      ],
      "metadata": {
        "id": "4d3kMvcOvm76"
      }
    },
    {
      "cell_type": "markdown",
      "source": [
        "---\n",
        "###シートの選択、追加/削除、名前の変更について\n"
      ],
      "metadata": {
        "id": "UsuxvNIgXkDx"
      }
    },
    {
      "cell_type": "markdown",
      "source": [
        "【シートの選択、追加】"
      ],
      "metadata": {
        "id": "3xSFjH9EXu2g"
      }
    },
    {
      "cell_type": "code",
      "source": [
        "ws = wb[\"Sheet\"]#名前で選択"
      ],
      "metadata": {
        "id": "aSflNPSOWjfx"
      },
      "execution_count": null,
      "outputs": []
    },
    {
      "cell_type": "code",
      "source": [
        "ws = wb.worksheets[0]#インデックスで選択"
      ],
      "metadata": {
        "id": "70mqXQZIW7f5"
      },
      "execution_count": null,
      "outputs": []
    },
    {
      "cell_type": "code",
      "source": [
        "ws = wb.active#アクティブなシートを選択"
      ],
      "metadata": {
        "id": "2WVzlJUI7ymp"
      },
      "execution_count": null,
      "outputs": []
    },
    {
      "cell_type": "code",
      "source": [
        "ws.title# シート名を得る"
      ],
      "metadata": {
        "id": "PIkzLjnP7_dJ",
        "colab": {
          "base_uri": "https://localhost:8080/",
          "height": 35
        },
        "outputId": "566a9781-02d4-44e9-872a-6f6f5c358096"
      },
      "execution_count": 51,
      "outputs": [
        {
          "output_type": "execute_result",
          "data": {
            "application/vnd.google.colaboratory.intrinsic+json": {
              "type": "string"
            },
            "text/plain": [
              "'Sheet'"
            ]
          },
          "metadata": {},
          "execution_count": 51
        }
      ]
    },
    {
      "cell_type": "code",
      "source": [
        "wb.sheetnames# シート名のリストを得る"
      ],
      "metadata": {
        "id": "yUC8BXBfRa8N"
      },
      "execution_count": null,
      "outputs": []
    },
    {
      "cell_type": "code",
      "source": [
        "ws_end = wb.create_sheet(title=\"Sheet_end\")#末尾に追加"
      ],
      "metadata": {
        "id": "fkT66ZJLYNJw"
      },
      "execution_count": null,
      "outputs": []
    },
    {
      "cell_type": "code",
      "source": [
        "ws_2= wb.create_sheet(title=\"New Sheet\"\n",
        "                        ,index=1)#2番目に追加（index=0が先頭のシート）\n"
      ],
      "metadata": {
        "id": "nF5HLZOfYfQ_"
      },
      "execution_count": null,
      "outputs": []
    },
    {
      "cell_type": "code",
      "source": [
        "#シートの削除\n",
        "wb.remove(ws)"
      ],
      "metadata": {
        "id": "LIDjVG-daW2_"
      },
      "execution_count": null,
      "outputs": []
    },
    {
      "cell_type": "code",
      "source": [
        "#名前の変更\n",
        "ws.title = \"FirstSheet\""
      ],
      "metadata": {
        "id": "zgA9JxMn6iR6"
      },
      "execution_count": null,
      "outputs": []
    },
    {
      "cell_type": "markdown",
      "source": [
        "#6.ようやく実践の入り口だ！"
      ],
      "metadata": {
        "id": "yuptl0_4xsi4"
      }
    },
    {
      "cell_type": "markdown",
      "source": [
        "①全て読み込んでみる！"
      ],
      "metadata": {
        "id": "5hnvsavzBNTV"
      }
    },
    {
      "cell_type": "code",
      "source": [
        "import openpyxl"
      ],
      "metadata": {
        "id": "lyiXccmOlrt0"
      },
      "execution_count": null,
      "outputs": []
    },
    {
      "cell_type": "code",
      "source": [
        "\n",
        "wb=openpyxl.load_workbook(\"令和2年国勢調査.xlsx\")\n",
        "ws=wb[\"都道府県別人口密度\"]\n",
        "rng=ws[\"A5:M52\"]\n",
        "for row in rng:\n",
        "    rows=[cell.value for cell in row]\n",
        "    print(rows)"
      ],
      "metadata": {
        "id": "NDNadF4B9NXX"
      },
      "execution_count": null,
      "outputs": []
    },
    {
      "cell_type": "markdown",
      "source": [
        "②見出し部分をコピー"
      ],
      "metadata": {
        "id": "TNPltVYABXsu"
      }
    },
    {
      "cell_type": "code",
      "source": [
        "rng=ws[\"A1:M4\"]\n",
        "\n",
        "ws2=wb.create_sheet(title=\"Sheet\")\n",
        "for row in rng:\n",
        "    for cell in row:\n",
        "        if cell.value !=None:\n",
        "            ws2.cell(cell.row,\n",
        "                     cell.col_idx,\n",
        "                     cell.value)\n",
        "wb.save(\"見出しコピー.xlsx\")"
      ],
      "metadata": {
        "id": "dVrhJxmE5xQi"
      },
      "execution_count": null,
      "outputs": []
    },
    {
      "cell_type": "markdown",
      "source": [
        "関数について"
      ],
      "metadata": {
        "id": "4rSCaJt8m0M-"
      }
    },
    {
      "cell_type": "code",
      "source": [
        "\n",
        "ws=wb[\"都道府県別人口密度\"]\n",
        "ws2=wb.create_sheet(title=\"Sheet2\")\n",
        "def copy_title(ws2):\n",
        "    \"\"\"見出しをコピーする関数\"\"\"\n",
        "    rng=ws[\"A1:M4\"] \n",
        "    for row in rng:\n",
        "        for cell in row:\n",
        "            if cell.value != None:\n",
        "                ws2.cell(cell.row,\n",
        "                         cell.col_idx,\n",
        "                         cell.value)\n",
        "copy_title(ws2)\n",
        "wb.save(\"見出しコピー（関数）.xlsx\")"
      ],
      "metadata": {
        "id": "DorKG04aiY16"
      },
      "execution_count": null,
      "outputs": []
    },
    {
      "cell_type": "markdown",
      "source": [
        "③データ部分を個別のシートにコピーする"
      ],
      "metadata": {
        "id": "Kwxm9J3RvGIP"
      }
    },
    {
      "cell_type": "code",
      "source": [
        "#北海道の場合\n",
        "rng=ws[\"A5:M52\"]\n",
        "#シート名「北海道」を作成\n",
        "ws2=wb.create_sheet(title=\"北海道\")\n",
        "copy_title(ws2)\n",
        "for cell in rng[1]:\n",
        "    if cell.value != None:\n",
        "        ws2.cell(5,cell.col_idx,\n",
        "                 cell.value)\n",
        "    \n",
        "wb.save(\"北海道のデータコピー.xlsx\")\n",
        "wb.close()"
      ],
      "metadata": {
        "id": "YnaDedM7rg6B"
      },
      "execution_count": null,
      "outputs": []
    },
    {
      "cell_type": "markdown",
      "source": [
        "④「③の処理」を連続的に行う。"
      ],
      "metadata": {
        "id": "plrGzGVhyDuU"
      }
    },
    {
      "cell_type": "code",
      "source": [
        "wb=openpyxl.load_workbook(\n",
        "    \"令和2年国勢調査.xlsx\")\n",
        "ws=wb[\"都道府県別人口密度\"]\n",
        "rng=ws[\"A5:M52\"]\n",
        "for row in rng:\n",
        "    sheet_name=row[0].value\n",
        "    ws2=wb.create_sheet(title=sheet_name)\n",
        "    copy_title(ws2)\n",
        "    for cell in row:\n",
        "        if cell.value != None:\n",
        "            ws2.cell(5,cell.col_idx,\n",
        "                     cell.value)\n",
        "wb.save(\"全国都道府県別_R2国勢調査.xlsx\")\n",
        "wb.close()"
      ],
      "metadata": {
        "id": "YD59XCULRXRx"
      },
      "execution_count": null,
      "outputs": []
    },
    {
      "cell_type": "markdown",
      "source": [
        "#書式変更"
      ],
      "metadata": {
        "id": "WLqghERe7ivy"
      }
    },
    {
      "cell_type": "markdown",
      "source": [
        "数値の書式設定について<br />\n"
      ],
      "metadata": {
        "id": "zsU-r-VN5I0S"
      }
    },
    {
      "cell_type": "code",
      "source": [
        "#3桁のカンマ区切りにする\n",
        "def three_digit_comma(ws):\n",
        "    \"\"\"3桁のカンマ区切りに書式設定します。\"\"\"\n",
        "    rng=ws[\"B5:M5\"]\n",
        "    for row in rng:\n",
        "        for cell in row:\n",
        "            cell.number_format=\"#,##0\" "
      ],
      "metadata": {
        "id": "c-e4rT--M44P"
      },
      "execution_count": null,
      "outputs": []
    },
    {
      "cell_type": "code",
      "source": [
        "#マージする関数\n",
        "def merge_sets(ws):\n",
        "    \"\"\"セルをマージする\"\"\"\n",
        "    rngs=['A1:M1','A2:A4','B2:F2',\n",
        "         'G2:K2','C3:D3','E3:F3',\n",
        "         'G3:H3','L2:L4','M2:M4']\n",
        "    for rng in rngs:\n",
        "        ws.merge_cells(rng)\n"
      ],
      "metadata": {
        "id": "enC1G99O2bPv"
      },
      "execution_count": null,
      "outputs": []
    },
    {
      "cell_type": "code",
      "source": [
        "#セル幅と高さを変更する\n",
        "def set_width_and_height(ws):\n",
        "    \"\"\"セル幅と高さを変更する\"\"\"\n",
        "    rng=ws[\"A1:M5\"]\n",
        "    height,width=48,21.5\n",
        "    for row in rng:\n",
        "        ws.row_dimensions[row[0].row].height=height\n",
        "        for cell in row:\n",
        "            ws.column_dimensions[cell.column].width=width"
      ],
      "metadata": {
        "id": "VuDUQrKYCp-M"
      },
      "execution_count": null,
      "outputs": []
    },
    {
      "cell_type": "markdown",
      "source": [
        "文字について<br />\n",
        "[openpyxl.styles.fonts module](https://openpyxl.readthedocs.io/en/stable/api/openpyxl.styles.fonts.html)"
      ],
      "metadata": {
        "id": "myAxF-yLfc6N"
      }
    },
    {
      "cell_type": "code",
      "source": [
        "#文字サイズを変更\n",
        "from openpyxl.styles import Font\n",
        "def set_fontsize(ws):\n",
        "    \"\"\"A1セルの文字サイズを変更\"\"\"\n",
        "    cell=ws[\"A1\"]\n",
        "    size=20\n",
        "    cell.font=Font(size=size)"
      ],
      "metadata": {
        "id": "PpGNTln8JDUf"
      },
      "execution_count": null,
      "outputs": []
    },
    {
      "cell_type": "code",
      "source": [
        "#文字を中央揃えにする\n",
        "from openpyxl.styles.alignment import Alignment\n",
        "def align_center(ws):\n",
        "    \"\"\"文字を中央揃えする。\"\"\"\n",
        "    rng=ws[\"A1:M5\"]\n",
        "    for row in rng:\n",
        "        for cell in row:\n",
        "            cell.alignment=Alignment(horizontal=\n",
        "                                     'center',\n",
        "                                     vertical=\n",
        "                                     'center' )"
      ],
      "metadata": {
        "id": "BEeHCAvw8Td6"
      },
      "execution_count": null,
      "outputs": []
    },
    {
      "cell_type": "markdown",
      "source": [
        "罫線について<br />\n",
        "[openpyxl.styles.borders module](https://openpyxl.readthedocs.io/en/stable/api/openpyxl.styles.borders.html)<br />\n",
        "その他関連<br />\n",
        "[Styling Merged Cells](https://openpyxl.readthedocs.io/en/stable/styles.html?highlight=ws.row_dimensions#applying-styles)"
      ],
      "metadata": {
        "id": "raET_mRMSZZ4"
      }
    },
    {
      "cell_type": "code",
      "source": [
        "#罫線を描画\n",
        "from openpyxl.styles.borders import Border,Side\n",
        "def draw_line(ws):\n",
        "    \"\"\"罫線を描画する。\"\"\"    \n",
        "    rng=ws[\"A1:M5\"]\n",
        "    thin=Side(border_style=\"thin\", color=\"000000\")\n",
        "    for row in rng:\n",
        "        for cell in row:\n",
        "            cell.border=Border(top=thin,right=thin,bottom=thin,left=thin)"
      ],
      "metadata": {
        "id": "HTBhhmbajqjk"
      },
      "execution_count": null,
      "outputs": []
    },
    {
      "cell_type": "markdown",
      "source": [
        "罫線のサンプルを表示する"
      ],
      "metadata": {
        "id": "X-s7crmtquf7"
      }
    },
    {
      "cell_type": "code",
      "source": [
        "from openpyxl.styles.borders import Border,Side\n",
        "wb=openpyxl.Workbook()\n",
        "ws=wb.active\n",
        "styles=['dashDotDot','medium','dotted',\n",
        "        'slantDashDot','thin','hair','mediumDashDotDot',\n",
        "        'dashDot', 'double','mediumDashed','dashed',\n",
        "        'mediumDashDot','thick']\n",
        "\n",
        "\n",
        "for r, style in enumerate(styles):\n",
        "    line=Side(border_style=style, color=\"000000\")\n",
        "    cell=ws.cell(r+1,2)\n",
        "    cell.value=style\n",
        "    cell.border=Border(bottom=line)\n",
        "    ws.row_dimensions[cell.row].height=28\n",
        "ws.column_dimensions[\"B\"].width=24\n",
        "\n",
        "wb.save(\"border_test.xlsx\")\n",
        "\n"
      ],
      "metadata": {
        "id": "0RULrr_wX2FW"
      },
      "execution_count": null,
      "outputs": []
    },
    {
      "cell_type": "markdown",
      "source": [
        "書式変更"
      ],
      "metadata": {
        "id": "PnxfswGyf248"
      }
    },
    {
      "cell_type": "code",
      "source": [
        "#書式変更\n",
        "wb=openpyxl.load_workbook(\"全国都道府県別_R2国勢調査.xlsx\")\n",
        "ws=wb[\"都道府県別人口密度\"]\n",
        "rng=ws[\"A5:M52\"]\n",
        "\n",
        "city_names=[row[0].value for row in rng]\n",
        "\n",
        "for name in city_names:\n",
        "    ws2 = wb[name]\n",
        "\n",
        "    three_digit_comma(ws2)\n",
        "    merge_sets(ws2)\n",
        "    align_center(ws2)\n",
        "    set_width_and_height(ws2)\n",
        "    set_fontsize(ws2)\n",
        "    draw_line(ws2)\n",
        "\n",
        "wb.save(\"全国都道府県別_R2国勢調査.xlsx\")\n",
        "wb.close()"
      ],
      "metadata": {
        "id": "zEGnDqWHfrcF"
      },
      "execution_count": null,
      "outputs": []
    }
  ]
}